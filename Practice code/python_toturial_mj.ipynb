{
  "nbformat": 4,
  "nbformat_minor": 0,
  "metadata": {
    "colab": {
      "provenance": [],
      "authorship_tag": "ABX9TyOXfEc4CrIVt0m7HCEfarAC",
      "include_colab_link": true
    },
    "kernelspec": {
      "name": "python3",
      "display_name": "Python 3"
    },
    "language_info": {
      "name": "python"
    }
  },
  "cells": [
    {
      "cell_type": "markdown",
      "metadata": {
        "id": "view-in-github",
        "colab_type": "text"
      },
      "source": [
        "<a href=\"https://colab.research.google.com/github/dednomerios/ML_2024_Aliyari/blob/main/Practice%20code/python_toturial_mj.ipynb\" target=\"_parent\"><img src=\"https://colab.research.google.com/assets/colab-badge.svg\" alt=\"Open In Colab\"/></a>"
      ]
    },
    {
      "cell_type": "code",
      "execution_count": 4,
      "metadata": {
        "colab": {
          "base_uri": "https://localhost:8080/"
        },
        "id": "7qpkbtTm1l09",
        "outputId": "03291476-3aeb-43c8-ed7d-db86ff3fa7c6"
      },
      "outputs": [
        {
          "output_type": "stream",
          "name": "stdout",
          "text": [
            "hello Ali\n"
          ]
        }
      ],
      "source": [
        "\n",
        "name = 'Ali'\n",
        "print(f'hello {name}')\n",
        "#print(f'greetings: {name}')"
      ]
    },
    {
      "cell_type": "code",
      "source": [
        "my_list = [1, 2, 3]\n",
        "# print(my_list)\n",
        "# my_list.insert(1,5)\n",
        "# print(my_list)\n",
        "sum(my_list)\n",
        "print('the summation is:', sum(my_list))\n",
        "my_other_list = my_list.copy()\n",
        "print(my_other_list)"
      ],
      "metadata": {
        "colab": {
          "base_uri": "https://localhost:8080/"
        },
        "id": "8ZQWaiDa5n1i",
        "outputId": "e9bd9e87-3925-4991-c921-6f2dc875af76"
      },
      "execution_count": 15,
      "outputs": [
        {
          "output_type": "stream",
          "name": "stdout",
          "text": [
            "the summation is: 6\n",
            "[1, 2, 3]\n"
          ]
        }
      ]
    },
    {
      "cell_type": "code",
      "source": [
        "my_list1 = [1, 2, 3]\n",
        "my_tuple = (3, 4, 5)\n",
        "print(len(my_tuple))\n",
        "# my_list1.extend(my_tuple)\n",
        "print(my_list1 + list(my_tuple) )"
      ],
      "metadata": {
        "colab": {
          "base_uri": "https://localhost:8080/"
        },
        "id": "I2xKmZ6s5ooW",
        "outputId": "56e39943-84fb-4f57-b3ee-4d51de3160a5"
      },
      "execution_count": 31,
      "outputs": [
        {
          "output_type": "stream",
          "name": "stdout",
          "text": [
            "3\n",
            "[1, 2, 3, 3, 4, 5]\n"
          ]
        }
      ]
    },
    {
      "cell_type": "code",
      "source": [
        "my_dict = {'Name':'Ali', 'Age':22, 'job':'engineer'}\n",
        "# print(my_dict['Age'])\n",
        "my_dict['Gender'] = 'male'\n",
        "print(my_dict)\n",
        "del my_dict['Gender']\n",
        "print(my_dict)"
      ],
      "metadata": {
        "colab": {
          "base_uri": "https://localhost:8080/"
        },
        "id": "UEnGC38J5o2H",
        "outputId": "9cebc76c-056c-4e42-ea46-349df874e93a"
      },
      "execution_count": 28,
      "outputs": [
        {
          "output_type": "stream",
          "name": "stdout",
          "text": [
            "{'Name': 'Ali', 'Age': 22, 'job': 'engineer', 'Gender': 'male'}\n",
            "{'Name': 'Ali', 'Age': 22, 'job': 'engineer'}\n"
          ]
        }
      ]
    },
    {
      "cell_type": "code",
      "source": [
        "x = 2\n",
        "if x<5:\n",
        "  print('x<5')\n",
        "elif x<10:\n",
        "  print('x<10')\n",
        "else:\n",
        "  print('x>=10')"
      ],
      "metadata": {
        "colab": {
          "base_uri": "https://localhost:8080/"
        },
        "id": "1L-n-Kqs5pAT",
        "outputId": "92df8cc9-481a-4635-a75b-8e38050f4e64"
      },
      "execution_count": 33,
      "outputs": [
        {
          "output_type": "stream",
          "name": "stdout",
          "text": [
            "x<5\n"
          ]
        }
      ]
    },
    {
      "cell_type": "code",
      "source": [
        "for i in range(4):\n",
        "  print(i)\n",
        "\n",
        "print('\\n')\n",
        "for j in range(3,7):\n",
        "  print(j)\n",
        "\n",
        "print('\\n')\n",
        "\n",
        "i = 0\n",
        "while i<6:\n",
        "  print(i)\n",
        "  i += 1"
      ],
      "metadata": {
        "colab": {
          "base_uri": "https://localhost:8080/"
        },
        "id": "12hccFxh_ZYt",
        "outputId": "226296df-480b-453b-f5ee-a85d02797a41"
      },
      "execution_count": 39,
      "outputs": [
        {
          "output_type": "stream",
          "name": "stdout",
          "text": [
            "0\n",
            "1\n",
            "2\n",
            "3\n",
            "\n",
            "\n",
            "3\n",
            "4\n",
            "5\n",
            "6\n",
            "\n",
            "\n",
            "0\n",
            "1\n",
            "2\n",
            "3\n",
            "4\n",
            "5\n"
          ]
        }
      ]
    },
    {
      "cell_type": "code",
      "source": [
        "my_list = ['Ali', 45, [1, 3]]\n",
        "for item in my_list:\n",
        "  print(item)"
      ],
      "metadata": {
        "colab": {
          "base_uri": "https://localhost:8080/"
        },
        "id": "cD--R7cKAGUq",
        "outputId": "b6c3dea6-30da-4007-dc26-4ae4fb64f1e2"
      },
      "execution_count": 40,
      "outputs": [
        {
          "output_type": "stream",
          "name": "stdout",
          "text": [
            "Ali\n",
            "45\n",
            "[1, 3]\n"
          ]
        }
      ]
    },
    {
      "cell_type": "markdown",
      "source": [
        "function"
      ],
      "metadata": {
        "id": "6urF3iLUBPZo"
      }
    },
    {
      "cell_type": "code",
      "source": [
        "def greet(name = 'world'):\n",
        "  print('Hello', name)\n",
        "\n",
        "greet('sajjad')\n",
        "print('\\n')\n",
        "greet()\n",
        "\n",
        "\n",
        "def my_sum(a,b):\n",
        "  return a+b\n",
        "\n",
        "\n",
        "my_sum(2,3)"
      ],
      "metadata": {
        "colab": {
          "base_uri": "https://localhost:8080/"
        },
        "id": "pWGdwyrUAGmY",
        "outputId": "7465f70c-a770-49d7-c061-52338e3acba2"
      },
      "execution_count": 49,
      "outputs": [
        {
          "output_type": "stream",
          "name": "stdout",
          "text": [
            "Hello sajjad\n",
            "\n",
            "\n",
            "Hello world\n"
          ]
        },
        {
          "output_type": "execute_result",
          "data": {
            "text/plain": [
              "5"
            ]
          },
          "metadata": {},
          "execution_count": 49
        }
      ]
    },
    {
      "cell_type": "code",
      "source": [
        "class person:\n",
        "  def __init__(self, firstname, lastname):\n",
        "    self.firstname = firstname\n",
        "    self.lastname = lastname\n",
        "  def say_hello(self):\n",
        "    print(\"hello,\", self.firstname + self.lastname )\n",
        "\n",
        "person1 = person('Ali', \" Mehrabi\")\n",
        "person1.say_hello()"
      ],
      "metadata": {
        "colab": {
          "base_uri": "https://localhost:8080/"
        },
        "id": "K5AAd1WMBGAz",
        "outputId": "7d7e28f0-6a39-4257-9bc8-f9260685573c"
      },
      "execution_count": 51,
      "outputs": [
        {
          "output_type": "stream",
          "name": "stdout",
          "text": [
            "hello, Ali Mehrabi\n"
          ]
        }
      ]
    },
    {
      "cell_type": "code",
      "source": [],
      "metadata": {
        "id": "ul8DbnXqA_JF"
      },
      "execution_count": null,
      "outputs": []
    },
    {
      "cell_type": "code",
      "source": [],
      "metadata": {
        "id": "rzglzccvAGvx"
      },
      "execution_count": null,
      "outputs": []
    },
    {
      "cell_type": "code",
      "source": [],
      "metadata": {
        "id": "0821aQleAG3B"
      },
      "execution_count": null,
      "outputs": []
    },
    {
      "cell_type": "code",
      "source": [],
      "metadata": {
        "id": "H_5fDsU1AG9G"
      },
      "execution_count": null,
      "outputs": []
    },
    {
      "cell_type": "code",
      "source": [],
      "metadata": {
        "id": "RsAT-bMNAHCD"
      },
      "execution_count": null,
      "outputs": []
    }
  ]
}