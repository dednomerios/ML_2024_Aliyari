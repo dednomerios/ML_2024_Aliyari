{
  "nbformat": 4,
  "nbformat_minor": 0,
  "metadata": {
    "colab": {
      "provenance": [],
      "collapsed_sections": [
        "krm4gHwgpvp1"
      ],
      "authorship_tag": "ABX9TyMc9gqi8Y0FWSnHw1okMv8B",
      "include_colab_link": true
    },
    "kernelspec": {
      "name": "python3",
      "display_name": "Python 3"
    },
    "language_info": {
      "name": "python"
    }
  },
  "cells": [
    {
      "cell_type": "markdown",
      "metadata": {
        "id": "view-in-github",
        "colab_type": "text"
      },
      "source": [
        "<a href=\"https://colab.research.google.com/github/dednomerios/ML_2024_Aliyari/blob/main/Practice%20code/mohammad_sina_workshop1.ipynb\" target=\"_parent\"><img src=\"https://colab.research.google.com/assets/colab-badge.svg\" alt=\"Open In Colab\"/></a>"
      ]
    },
    {
      "cell_type": "markdown",
      "source": [
        "# Intro"
      ],
      "metadata": {
        "id": "krm4gHwgpvp1"
      }
    },
    {
      "cell_type": "code",
      "execution_count": null,
      "metadata": {
        "colab": {
          "base_uri": "https://localhost:8080/",
          "height": 36
        },
        "id": "tI38Zw5fpfp8",
        "outputId": "4195bf9f-98a0-4868-b795-00720c444349"
      },
      "outputs": [
        {
          "output_type": "execute_result",
          "data": {
            "text/plain": [
              "'salam 12 hi'"
            ],
            "application/vnd.google.colaboratory.intrinsic+json": {
              "type": "string"
            }
          },
          "metadata": {},
          "execution_count": 2
        }
      ],
      "source": [
        "'salam {} {}'.format(12, 'hi')"
      ]
    },
    {
      "cell_type": "code",
      "source": [
        "a = 12\n",
        "b = 'salam'\n",
        "f'hello {a} {b}'"
      ],
      "metadata": {
        "colab": {
          "base_uri": "https://localhost:8080/",
          "height": 36
        },
        "id": "fyG4Psrkpqee",
        "outputId": "1903400e-848d-4f62-89e6-85ab46436cd1"
      },
      "execution_count": null,
      "outputs": [
        {
          "output_type": "execute_result",
          "data": {
            "text/plain": [
              "'hello 12 salam'"
            ],
            "application/vnd.google.colaboratory.intrinsic+json": {
              "type": "string"
            }
          },
          "metadata": {},
          "execution_count": 4
        }
      ]
    },
    {
      "cell_type": "markdown",
      "source": [
        "## tuple list set"
      ],
      "metadata": {
        "id": "MQ5cryz-sd19"
      }
    },
    {
      "cell_type": "code",
      "source": [
        "my_list = [1, 2, 3]\n",
        "my_tuple = (1, 2, 3)\n",
        "print(my_list,my_tuple)\n",
        "# error : my_tuple[1] = 5  !!! cannot change\n",
        "my_set = {1,2,2,1}\n",
        "print(my_set) # handle repeated vars\n",
        "12 in {1,2,3,4}"
      ],
      "metadata": {
        "colab": {
          "base_uri": "https://localhost:8080/"
        },
        "id": "ulQINoHgpogH",
        "outputId": "9f3fd44a-6b64-4ae6-e156-ab87203bf63e"
      },
      "execution_count": null,
      "outputs": [
        {
          "output_type": "stream",
          "name": "stdout",
          "text": [
            "[1, 2, 3] (1, 2, 3)\n",
            "{1, 2}\n"
          ]
        },
        {
          "output_type": "execute_result",
          "data": {
            "text/plain": [
              "False"
            ]
          },
          "metadata": {},
          "execution_count": 9
        }
      ]
    },
    {
      "cell_type": "markdown",
      "source": [
        "## dictionary - most important for DS"
      ],
      "metadata": {
        "id": "CWZki5oCs7CK"
      }
    },
    {
      "cell_type": "code",
      "source": [
        "my_dict = {'a':12, 'b':{1, 2, 3}}\n",
        "my_dict['b'] # reach the arguments"
      ],
      "metadata": {
        "colab": {
          "base_uri": "https://localhost:8080/"
        },
        "id": "2YhsrqeSpmd3",
        "outputId": "a4b38a99-88c0-405f-f1cf-c5b63e30f658"
      },
      "execution_count": null,
      "outputs": [
        {
          "output_type": "execute_result",
          "data": {
            "text/plain": [
              "{1, 2, 3}"
            ]
          },
          "metadata": {},
          "execution_count": 11
        }
      ]
    },
    {
      "cell_type": "markdown",
      "source": [
        "## conditional loops"
      ],
      "metadata": {
        "id": "dlIa3Kijt5sx"
      }
    },
    {
      "cell_type": "code",
      "source": [
        "if my_dict['a'] == 12:\n",
        "  print('sth')\n",
        "elif 1 in my_dict['b']:\n",
        "  print('sth....')\n",
        "else:\n",
        "  print('sth..........')"
      ],
      "metadata": {
        "colab": {
          "base_uri": "https://localhost:8080/"
        },
        "id": "YcOVq3w8pmk_",
        "outputId": "020e50d6-02ee-403d-9356-d9b1f526254b"
      },
      "execution_count": null,
      "outputs": [
        {
          "output_type": "stream",
          "name": "stdout",
          "text": [
            "sth\n"
          ]
        }
      ]
    },
    {
      "cell_type": "code",
      "source": [
        "# infinite loop\n",
        "while True:\n",
        "\n",
        "  print('HI')"
      ],
      "metadata": {
        "id": "_QnOeP4Spmto"
      },
      "execution_count": null,
      "outputs": []
    },
    {
      "cell_type": "code",
      "source": [
        "for i in [1,2,3]:\n",
        "  print(i)\n",
        "for i in enumerate([1,2,3]):\n",
        "  print(i)"
      ],
      "metadata": {
        "colab": {
          "base_uri": "https://localhost:8080/"
        },
        "id": "BfpVveKJpm1L",
        "outputId": "25b4677b-582b-4d33-c470-252f87bd8990"
      },
      "execution_count": null,
      "outputs": [
        {
          "output_type": "stream",
          "name": "stdout",
          "text": [
            "1\n",
            "2\n",
            "3\n",
            "(0, 1)\n",
            "(1, 2)\n",
            "(2, 3)\n"
          ]
        }
      ]
    },
    {
      "cell_type": "code",
      "source": [
        "for i in range(1,5):\n",
        "  print('*' * (i))"
      ],
      "metadata": {
        "colab": {
          "base_uri": "https://localhost:8080/"
        },
        "id": "bk1FgfsCpm8A",
        "outputId": "be1c2542-618e-40d3-8cf4-2790c29d8abe"
      },
      "execution_count": null,
      "outputs": [
        {
          "output_type": "stream",
          "name": "stdout",
          "text": [
            "*\n",
            "**\n",
            "***\n",
            "****\n"
          ]
        }
      ]
    },
    {
      "cell_type": "code",
      "source": [
        "def magic2(number = '3'):\n",
        "  if isinstance(number, str):  # we can decide for every format with isinstance\n",
        "    number = int(number)\n",
        "  elif isinstance(number, (int, float)):\n",
        "    pass\n",
        "  else:\n",
        "    raise ValueError('wrong format')\n",
        "  for i in range(number):\n",
        "    print('* ' * (i+1))"
      ],
      "metadata": {
        "id": "gkn4iUMZpnCK"
      },
      "execution_count": null,
      "outputs": []
    },
    {
      "cell_type": "code",
      "source": [
        "magic2(5)\n",
        "magic2(5)\n",
        "magic2(5)\n",
        "magic2()"
      ],
      "metadata": {
        "colab": {
          "base_uri": "https://localhost:8080/"
        },
        "id": "IGQxd1htpnJd",
        "outputId": "ce17eed4-6b5f-4533-ab32-55b738d06e69"
      },
      "execution_count": null,
      "outputs": [
        {
          "output_type": "stream",
          "name": "stdout",
          "text": [
            "* \n",
            "* * \n",
            "* * * \n",
            "* * * * \n",
            "* * * * * \n",
            "* \n",
            "* * \n",
            "* * * \n",
            "* * * * \n",
            "* * * * * \n",
            "* \n",
            "* * \n",
            "* * * \n",
            "* * * * \n",
            "* * * * * \n",
            "* \n",
            "* * \n",
            "* * * \n"
          ]
        }
      ]
    },
    {
      "cell_type": "markdown",
      "source": [
        "### positional arguments"
      ],
      "metadata": {
        "id": "VS3uvTnczKCq"
      }
    },
    {
      "cell_type": "code",
      "source": [
        "def add(a,b = 2):\n",
        "  return a+b\n",
        "\n",
        "add(2,)  # positional arguments\n",
        "\n",
        "\n",
        "# non positional using star  (we have to enter wich one we want to assign after the *,)\n",
        "def add(a,*,b = 2, c = 1):\n",
        "  return a+b+c\n",
        "\n",
        "add(2,c = 6, b = 1)  # positional arguments\n",
        "\n"
      ],
      "metadata": {
        "colab": {
          "base_uri": "https://localhost:8080/"
        },
        "id": "3-WYCyoGpnQZ",
        "outputId": "4e2fcbf2-5d99-4375-ac1c-ef4b6e769496"
      },
      "execution_count": null,
      "outputs": [
        {
          "output_type": "execute_result",
          "data": {
            "text/plain": [
              "9"
            ]
          },
          "metadata": {},
          "execution_count": 43
        }
      ]
    },
    {
      "cell_type": "code",
      "source": [
        "type(add(2,c = 6, b = 1))"
      ],
      "metadata": {
        "colab": {
          "base_uri": "https://localhost:8080/"
        },
        "id": "NGtS-Rwcz8C3",
        "outputId": "f1ffd57a-5535-4e39-cf32-bf9f9319e1f7"
      },
      "execution_count": null,
      "outputs": [
        {
          "output_type": "execute_result",
          "data": {
            "text/plain": [
              "int"
            ]
          },
          "metadata": {},
          "execution_count": 44
        }
      ]
    },
    {
      "cell_type": "markdown",
      "source": [
        "# object oriented python"
      ],
      "metadata": {
        "id": "LhxEWYKq2jYl"
      }
    },
    {
      "cell_type": "code",
      "source": [
        "students_name = ['ali','hassan','mohammad']\n",
        "pyhton_study_time = [3, 2, 4]\n",
        "python_grade = [18, 17, 19]\n",
        "java_study_time = [2, 2, 1]\n",
        "java_grade = [14, 13, 15]"
      ],
      "metadata": {
        "id": "z-moHUsq2uIf"
      },
      "execution_count": null,
      "outputs": []
    },
    {
      "cell_type": "code",
      "source": [
        "class student:\n",
        "  def __init__(self,name):\n",
        "    self.name = name\n",
        "  def say_my_name(self):\n",
        "    print(f'my name is {self.name}')"
      ],
      "metadata": {
        "id": "bfSShmYn2un-"
      },
      "execution_count": null,
      "outputs": []
    },
    {
      "cell_type": "code",
      "source": [
        "ali = student(name = 'ali')"
      ],
      "metadata": {
        "id": "7TQdoWD52vH3"
      },
      "execution_count": null,
      "outputs": []
    },
    {
      "cell_type": "code",
      "source": [
        "ali.say_my_name()"
      ],
      "metadata": {
        "colab": {
          "base_uri": "https://localhost:8080/"
        },
        "id": "mpXOqTiy2vMO",
        "outputId": "a8aa1fd6-152b-45bd-a02d-48ae46ae8060"
      },
      "execution_count": null,
      "outputs": [
        {
          "output_type": "stream",
          "name": "stdout",
          "text": [
            "my name is ali\n"
          ]
        }
      ]
    },
    {
      "cell_type": "code",
      "source": [
        "# class student:\n",
        "#   def __init__(self,name):\n",
        "#     self.name = name\n",
        "#   def say_my_name(self):   # dynamic method\n",
        "#     print(f'my name is {self.name}')\n",
        "#   def say_hello(self):   #static method\n",
        "#     print('Helooooo...')\n",
        "\n",
        "\n",
        "class student:\n",
        "  def __init__(self,name):\n",
        "    self.name = name\n",
        "  def say_my_name(self):   # dynamic method\n",
        "    print(f'my name is {self.name}')\n",
        "\n",
        "  @staticmethod\n",
        "  def say_hello():   #static method\n",
        "    print('Helooooo...')"
      ],
      "metadata": {
        "id": "jEpkQ9ke2vRH"
      },
      "execution_count": null,
      "outputs": []
    },
    {
      "cell_type": "code",
      "source": [
        "ali = student(name = 'ali')\n",
        "ali.say_hello()"
      ],
      "metadata": {
        "colab": {
          "base_uri": "https://localhost:8080/"
        },
        "id": "GIsLQh7W2vXB",
        "outputId": "993e6349-1235-4c1e-cf93-fe07b9e5ace8"
      },
      "execution_count": null,
      "outputs": [
        {
          "output_type": "stream",
          "name": "stdout",
          "text": [
            "Helooooo...\n"
          ]
        }
      ]
    },
    {
      "cell_type": "markdown",
      "source": [
        "## protected and private attribute\n",
        "we can change it but it is a non written rule not to bother variables with _\n",
        "we can use it inside the class though"
      ],
      "metadata": {
        "id": "b4Vcdkr37LcW"
      }
    },
    {
      "cell_type": "code",
      "source": [
        "class student:\n",
        "  def __init__(self,name):\n",
        "    self._name = name       # protected with _\n",
        "  def say_my_name(self):   # dynamic method\n",
        "    print(f'my name is {self._name}')\n",
        "\n",
        "  @staticmethod\n",
        "  def say_hello():   #static method\n",
        "    print('Helooooo...')"
      ],
      "metadata": {
        "id": "piZpDUis2vcG"
      },
      "execution_count": null,
      "outputs": []
    },
    {
      "cell_type": "code",
      "source": [
        "class student:\n",
        "  def __init__(self,name):\n",
        "    self._name = name       # protected with _\n",
        "    self.__name = name      # cannot change outside the class\n",
        "  def say_my_name(self):   # dynamic method\n",
        "    print(f'my name is {self.__name}')\n",
        "\n",
        "  @staticmethod\n",
        "  def say_hello():   #static method\n",
        "    print('Helooooo...')"
      ],
      "metadata": {
        "id": "S7Cvt-vD2vga"
      },
      "execution_count": null,
      "outputs": []
    },
    {
      "cell_type": "markdown",
      "source": [
        "## inheritance"
      ],
      "metadata": {
        "id": "M9B-ygy98K6H"
      }
    },
    {
      "cell_type": "code",
      "source": [
        "class student:\n",
        "  def __init__(self, name, number):\n",
        "    self._name = name\n",
        "    self._check_number(number)\n",
        "    self._number = number\n",
        "  def _check_number(self, number):\n",
        "    if number % 4:    # شماره دانشجویی بخش پذیر بر 4 باشه اررو نده\n",
        "      raise ValueError()\n",
        "\n",
        "class KntuStudent(student):\n",
        "  def _check_number(self, number):\n",
        "    if number % 5:    # شماره دانشجویی بخش پذیر بر 5 باشه اررو نده\n",
        "      raise ValueError()  # اینجا داریم اوررایت میکنیم شرط بخش پذیری بر 4 رو در متد کلی میگیم خواجه نصیر بخش بر 5 هست"
      ],
      "metadata": {
        "id": "XZ1UMMZF-AIp"
      },
      "execution_count": 66,
      "outputs": []
    },
    {
      "cell_type": "code",
      "source": [
        "ali = KntuStudent('ali', 5)"
      ],
      "metadata": {
        "id": "MjAgoeGt2vnj"
      },
      "execution_count": 68,
      "outputs": []
    },
    {
      "cell_type": "code",
      "source": [
        "ali._name"
      ],
      "metadata": {
        "id": "bzd4cxl_2vxD",
        "colab": {
          "base_uri": "https://localhost:8080/",
          "height": 36
        },
        "outputId": "ebc83fba-4fea-4573-e0a9-a214b4601ccc"
      },
      "execution_count": 58,
      "outputs": [
        {
          "output_type": "execute_result",
          "data": {
            "text/plain": [
              "'ali'"
            ],
            "application/vnd.google.colaboratory.intrinsic+json": {
              "type": "string"
            }
          },
          "metadata": {},
          "execution_count": 58
        }
      ]
    },
    {
      "cell_type": "markdown",
      "source": [
        "## magic method\n"
      ],
      "metadata": {
        "id": "djmYP0U2Alkx"
      }
    },
    {
      "cell_type": "code",
      "source": [
        "class student:\n",
        "  def __init__(self, name, number):\n",
        "    self._name = name\n",
        "    self._check_number(number)\n",
        "    self._number = number\n",
        "  def _check_number(self, number):\n",
        "    if number % 4:    # شماره دانشجویی بخش پذیر بر 4 باشه اررو نده\n",
        "      raise ValueError()\n",
        "  def __str__(self):\n",
        "    return(f'student name is: {self._name} ')\n",
        "  def __eq__(self, other):\n",
        "    return self._number == other._number\n",
        "  def __len__(self):\n",
        "    return 10\n",
        "\n",
        "\n",
        "class KntuStudent(student):\n",
        "  def _check_number(self, number):\n",
        "    if number % 5:    # شماره دانشجویی بخش پذیر بر 5 باشه اررو نده\n",
        "      raise ValueError()  # اینجا داریم اوررایت میکنیم شرط بخش پذیری بر 4 رو در متد کلی میگیم خواجه نصیر بخش بر 5 هست"
      ],
      "metadata": {
        "id": "FDWTGIpc2v6_"
      },
      "execution_count": 83,
      "outputs": []
    },
    {
      "cell_type": "code",
      "source": [
        "ali = KntuStudent('ali', 5)"
      ],
      "metadata": {
        "id": "KdNhArgG2wCZ"
      },
      "execution_count": 84,
      "outputs": []
    },
    {
      "cell_type": "code",
      "source": [
        "ali.__str__()  # we can use some of the methode is python by coding like this"
      ],
      "metadata": {
        "colab": {
          "base_uri": "https://localhost:8080/",
          "height": 36
        },
        "id": "m54OfyDLBYdq",
        "outputId": "43c7402f-b227-49fa-ed61-751cc62db8c6"
      },
      "execution_count": 74,
      "outputs": [
        {
          "output_type": "execute_result",
          "data": {
            "text/plain": [
              "'student name is: ali '"
            ],
            "application/vnd.google.colaboratory.intrinsic+json": {
              "type": "string"
            }
          },
          "metadata": {},
          "execution_count": 74
        }
      ]
    },
    {
      "cell_type": "code",
      "source": [
        "str(ali)"
      ],
      "metadata": {
        "colab": {
          "base_uri": "https://localhost:8080/",
          "height": 36
        },
        "id": "rugN2ctEBpJ_",
        "outputId": "49d7d923-59da-43f1-d44c-40b9e778b9f2"
      },
      "execution_count": 75,
      "outputs": [
        {
          "output_type": "execute_result",
          "data": {
            "text/plain": [
              "'student name is: ali '"
            ],
            "application/vnd.google.colaboratory.intrinsic+json": {
              "type": "string"
            }
          },
          "metadata": {},
          "execution_count": 75
        }
      ]
    },
    {
      "cell_type": "code",
      "source": [
        "ali2 = KntuStudent('ali', 5)"
      ],
      "metadata": {
        "id": "G5Pp5BSECZoh"
      },
      "execution_count": 77,
      "outputs": []
    },
    {
      "cell_type": "markdown",
      "source": [
        "اگر شماره دانشجویی ها برابر بودن با هم یه دانشجو ان ولی اکر اسما یکی بودن شماره دانشجویی ها یکی نیستند دو نفر ان"
      ],
      "metadata": {
        "id": "e1DobSNWCsIg"
      }
    },
    {
      "cell_type": "code",
      "source": [
        "ali == ali2"
      ],
      "metadata": {
        "colab": {
          "base_uri": "https://localhost:8080/"
        },
        "id": "NuHeqzWuCZ0F",
        "outputId": "a85614fd-ee36-4d54-8a64-7324e3196a58"
      },
      "execution_count": 78,
      "outputs": [
        {
          "output_type": "execute_result",
          "data": {
            "text/plain": [
              "True"
            ]
          },
          "metadata": {},
          "execution_count": 78
        }
      ]
    },
    {
      "cell_type": "code",
      "source": [
        "ali3 = KntuStudent('ali', 10)"
      ],
      "metadata": {
        "id": "f7LXS2wHCZ7P"
      },
      "execution_count": 79,
      "outputs": []
    },
    {
      "cell_type": "code",
      "source": [
        "ali == ali3\n",
        "# ali.__eq__(ali3)"
      ],
      "metadata": {
        "colab": {
          "base_uri": "https://localhost:8080/"
        },
        "id": "FLQCNNP_CaB2",
        "outputId": "58fd448f-cfdc-498c-c413-e808dd195d50"
      },
      "execution_count": 80,
      "outputs": [
        {
          "output_type": "execute_result",
          "data": {
            "text/plain": [
              "False"
            ]
          },
          "metadata": {},
          "execution_count": 80
        }
      ]
    },
    {
      "cell_type": "markdown",
      "source": [
        "یه عدد ثابت رو میده بهمون که مثلا اندازه یک لیست رو بهمون برمیگردونه در دیتاست ها کاربرد داره"
      ],
      "metadata": {
        "id": "D4V6QBfkDTQh"
      }
    },
    {
      "cell_type": "code",
      "source": [
        "len(ali)"
      ],
      "metadata": {
        "colab": {
          "base_uri": "https://localhost:8080/"
        },
        "id": "MQxw6QKLCaMN",
        "outputId": "127b6bfd-57a1-4ceb-ff7b-40ce39ab121b"
      },
      "execution_count": 85,
      "outputs": [
        {
          "output_type": "execute_result",
          "data": {
            "text/plain": [
              "10"
            ]
          },
          "metadata": {},
          "execution_count": 85
        }
      ]
    }
  ]
}