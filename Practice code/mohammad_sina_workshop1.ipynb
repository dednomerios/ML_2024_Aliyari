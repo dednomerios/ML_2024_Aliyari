{
  "nbformat": 4,
  "nbformat_minor": 0,
  "metadata": {
    "colab": {
      "provenance": [],
      "authorship_tag": "ABX9TyNNNOCj8p03h0T95iNiaTrG",
      "include_colab_link": true
    },
    "kernelspec": {
      "name": "python3",
      "display_name": "Python 3"
    },
    "language_info": {
      "name": "python"
    }
  },
  "cells": [
    {
      "cell_type": "markdown",
      "metadata": {
        "id": "view-in-github",
        "colab_type": "text"
      },
      "source": [
        "<a href=\"https://colab.research.google.com/github/dednomerios/ML_2024_Aliyari/blob/main/Practice%20code/mohammad_sina_workshop1.ipynb\" target=\"_parent\"><img src=\"https://colab.research.google.com/assets/colab-badge.svg\" alt=\"Open In Colab\"/></a>"
      ]
    },
    {
      "cell_type": "markdown",
      "source": [
        "# Intro"
      ],
      "metadata": {
        "id": "krm4gHwgpvp1"
      }
    },
    {
      "cell_type": "code",
      "execution_count": 2,
      "metadata": {
        "colab": {
          "base_uri": "https://localhost:8080/",
          "height": 36
        },
        "id": "tI38Zw5fpfp8",
        "outputId": "4195bf9f-98a0-4868-b795-00720c444349"
      },
      "outputs": [
        {
          "output_type": "execute_result",
          "data": {
            "text/plain": [
              "'salam 12 hi'"
            ],
            "application/vnd.google.colaboratory.intrinsic+json": {
              "type": "string"
            }
          },
          "metadata": {},
          "execution_count": 2
        }
      ],
      "source": [
        "'salam {} {}'.format(12, 'hi')"
      ]
    },
    {
      "cell_type": "code",
      "source": [
        "a = 12\n",
        "b = 'salam'\n",
        "f'hello {a} {b}'"
      ],
      "metadata": {
        "colab": {
          "base_uri": "https://localhost:8080/",
          "height": 36
        },
        "id": "fyG4Psrkpqee",
        "outputId": "1903400e-848d-4f62-89e6-85ab46436cd1"
      },
      "execution_count": 4,
      "outputs": [
        {
          "output_type": "execute_result",
          "data": {
            "text/plain": [
              "'hello 12 salam'"
            ],
            "application/vnd.google.colaboratory.intrinsic+json": {
              "type": "string"
            }
          },
          "metadata": {},
          "execution_count": 4
        }
      ]
    },
    {
      "cell_type": "markdown",
      "source": [
        "## tuple list set"
      ],
      "metadata": {
        "id": "MQ5cryz-sd19"
      }
    },
    {
      "cell_type": "code",
      "source": [
        "my_list = [1, 2, 3]\n",
        "my_tuple = (1, 2, 3)\n",
        "print(my_list,my_tuple)\n",
        "# error : my_tuple[1] = 5  !!! cannot change\n",
        "my_set = {1,2,2,1}\n",
        "print(my_set) # handle repeated vars\n",
        "12 in {1,2,3,4}"
      ],
      "metadata": {
        "colab": {
          "base_uri": "https://localhost:8080/"
        },
        "id": "ulQINoHgpogH",
        "outputId": "9f3fd44a-6b64-4ae6-e156-ab87203bf63e"
      },
      "execution_count": 9,
      "outputs": [
        {
          "output_type": "stream",
          "name": "stdout",
          "text": [
            "[1, 2, 3] (1, 2, 3)\n",
            "{1, 2}\n"
          ]
        },
        {
          "output_type": "execute_result",
          "data": {
            "text/plain": [
              "False"
            ]
          },
          "metadata": {},
          "execution_count": 9
        }
      ]
    },
    {
      "cell_type": "markdown",
      "source": [
        "## dictionary - most important for DS"
      ],
      "metadata": {
        "id": "CWZki5oCs7CK"
      }
    },
    {
      "cell_type": "code",
      "source": [
        "my_dict = {'a':12, 'b':{1, 2, 3}}\n",
        "my_dict['b'] # reach the arguments"
      ],
      "metadata": {
        "colab": {
          "base_uri": "https://localhost:8080/"
        },
        "id": "2YhsrqeSpmd3",
        "outputId": "a4b38a99-88c0-405f-f1cf-c5b63e30f658"
      },
      "execution_count": 11,
      "outputs": [
        {
          "output_type": "execute_result",
          "data": {
            "text/plain": [
              "{1, 2, 3}"
            ]
          },
          "metadata": {},
          "execution_count": 11
        }
      ]
    },
    {
      "cell_type": "markdown",
      "source": [
        "## conditional loops"
      ],
      "metadata": {
        "id": "dlIa3Kijt5sx"
      }
    },
    {
      "cell_type": "code",
      "source": [
        "if my_dict['a'] == 12:\n",
        "  print('sth')\n",
        "elif 1 in my_dict['b']:\n",
        "  print('sth....')\n",
        "else:\n",
        "  print('sth..........')"
      ],
      "metadata": {
        "colab": {
          "base_uri": "https://localhost:8080/"
        },
        "id": "YcOVq3w8pmk_",
        "outputId": "020e50d6-02ee-403d-9356-d9b1f526254b"
      },
      "execution_count": 12,
      "outputs": [
        {
          "output_type": "stream",
          "name": "stdout",
          "text": [
            "sth\n"
          ]
        }
      ]
    },
    {
      "cell_type": "code",
      "source": [
        "# infinite loop\n",
        "while True:\n",
        "\n",
        "  print('HI')"
      ],
      "metadata": {
        "id": "_QnOeP4Spmto"
      },
      "execution_count": null,
      "outputs": []
    },
    {
      "cell_type": "code",
      "source": [
        "for i in [1,2,3]:\n",
        "  print(i)\n",
        "for i in enumerate([1,2,3]):\n",
        "  print(i)"
      ],
      "metadata": {
        "colab": {
          "base_uri": "https://localhost:8080/"
        },
        "id": "BfpVveKJpm1L",
        "outputId": "25b4677b-582b-4d33-c470-252f87bd8990"
      },
      "execution_count": 17,
      "outputs": [
        {
          "output_type": "stream",
          "name": "stdout",
          "text": [
            "1\n",
            "2\n",
            "3\n",
            "(0, 1)\n",
            "(1, 2)\n",
            "(2, 3)\n"
          ]
        }
      ]
    },
    {
      "cell_type": "code",
      "source": [
        "for i in range(1,5):\n",
        "  print('*' * (i))"
      ],
      "metadata": {
        "colab": {
          "base_uri": "https://localhost:8080/"
        },
        "id": "bk1FgfsCpm8A",
        "outputId": "be1c2542-618e-40d3-8cf4-2790c29d8abe"
      },
      "execution_count": 37,
      "outputs": [
        {
          "output_type": "stream",
          "name": "stdout",
          "text": [
            "*\n",
            "**\n",
            "***\n",
            "****\n"
          ]
        }
      ]
    },
    {
      "cell_type": "code",
      "source": [
        "def magic2(number = '3'):\n",
        "  if isinstance(number, str):  # we can decide for every format with isinstance\n",
        "    number = int(number)\n",
        "  elif isinstance(number, (int, float)):\n",
        "    pass\n",
        "  else:\n",
        "    raise ValueError('wrong format')\n",
        "  for i in range(number):\n",
        "    print('* ' * (i+1))"
      ],
      "metadata": {
        "id": "gkn4iUMZpnCK"
      },
      "execution_count": 38,
      "outputs": []
    },
    {
      "cell_type": "code",
      "source": [
        "magic2(5)\n",
        "magic2(5)\n",
        "magic2(5)\n",
        "magic2()"
      ],
      "metadata": {
        "colab": {
          "base_uri": "https://localhost:8080/"
        },
        "id": "IGQxd1htpnJd",
        "outputId": "ce17eed4-6b5f-4533-ab32-55b738d06e69"
      },
      "execution_count": 41,
      "outputs": [
        {
          "output_type": "stream",
          "name": "stdout",
          "text": [
            "* \n",
            "* * \n",
            "* * * \n",
            "* * * * \n",
            "* * * * * \n",
            "* \n",
            "* * \n",
            "* * * \n",
            "* * * * \n",
            "* * * * * \n",
            "* \n",
            "* * \n",
            "* * * \n",
            "* * * * \n",
            "* * * * * \n",
            "* \n",
            "* * \n",
            "* * * \n"
          ]
        }
      ]
    },
    {
      "cell_type": "markdown",
      "source": [
        "### positional arguments"
      ],
      "metadata": {
        "id": "VS3uvTnczKCq"
      }
    },
    {
      "cell_type": "code",
      "source": [
        "def add(a,b = 2):\n",
        "  return a+b\n",
        "\n",
        "add(2,)  # positional arguments\n",
        "\n",
        "\n",
        "# non positional using star  (we have to enter wich one we want to assign after the *,)\n",
        "def add(a,*,b = 2, c = 1):\n",
        "  return a+b+c\n",
        "\n",
        "add(2,c = 6, b = 1)  # positional arguments\n",
        "\n"
      ],
      "metadata": {
        "colab": {
          "base_uri": "https://localhost:8080/"
        },
        "id": "3-WYCyoGpnQZ",
        "outputId": "4e2fcbf2-5d99-4375-ac1c-ef4b6e769496"
      },
      "execution_count": 43,
      "outputs": [
        {
          "output_type": "execute_result",
          "data": {
            "text/plain": [
              "9"
            ]
          },
          "metadata": {},
          "execution_count": 43
        }
      ]
    },
    {
      "cell_type": "code",
      "source": [
        "type(add(2,c = 6, b = 1))"
      ],
      "metadata": {
        "colab": {
          "base_uri": "https://localhost:8080/"
        },
        "id": "NGtS-Rwcz8C3",
        "outputId": "f1ffd57a-5535-4e39-cf32-bf9f9319e1f7"
      },
      "execution_count": 44,
      "outputs": [
        {
          "output_type": "execute_result",
          "data": {
            "text/plain": [
              "int"
            ]
          },
          "metadata": {},
          "execution_count": 44
        }
      ]
    },
    {
      "cell_type": "code",
      "source": [],
      "metadata": {
        "id": "qlDztaspz8QP"
      },
      "execution_count": null,
      "outputs": []
    },
    {
      "cell_type": "code",
      "source": [],
      "metadata": {
        "id": "q2_e7Tu4z8ZE"
      },
      "execution_count": null,
      "outputs": []
    },
    {
      "cell_type": "code",
      "source": [],
      "metadata": {
        "id": "UDLOiBosz8is"
      },
      "execution_count": null,
      "outputs": []
    },
    {
      "cell_type": "code",
      "source": [],
      "metadata": {
        "id": "YciMivpAz8q3"
      },
      "execution_count": null,
      "outputs": []
    },
    {
      "cell_type": "code",
      "source": [],
      "metadata": {
        "id": "DBUS-dfRz8yp"
      },
      "execution_count": null,
      "outputs": []
    },
    {
      "cell_type": "code",
      "source": [],
      "metadata": {
        "id": "1s0gRteSz863"
      },
      "execution_count": null,
      "outputs": []
    },
    {
      "cell_type": "code",
      "source": [],
      "metadata": {
        "id": "QzKQERmrz9DY"
      },
      "execution_count": null,
      "outputs": []
    },
    {
      "cell_type": "code",
      "source": [],
      "metadata": {
        "id": "VWvw6hKrz9MA"
      },
      "execution_count": null,
      "outputs": []
    },
    {
      "cell_type": "code",
      "source": [],
      "metadata": {
        "id": "7_JSlEw6z9VW"
      },
      "execution_count": null,
      "outputs": []
    },
    {
      "cell_type": "code",
      "source": [],
      "metadata": {
        "id": "xHTiz6uqz9dD"
      },
      "execution_count": null,
      "outputs": []
    },
    {
      "cell_type": "code",
      "source": [],
      "metadata": {
        "id": "W1KyuK9Yz9lf"
      },
      "execution_count": null,
      "outputs": []
    },
    {
      "cell_type": "code",
      "source": [],
      "metadata": {
        "id": "ghTxzYrjz9sr"
      },
      "execution_count": null,
      "outputs": []
    }
  ]
}