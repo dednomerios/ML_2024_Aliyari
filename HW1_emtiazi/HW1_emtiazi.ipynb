{
  "nbformat": 4,
  "nbformat_minor": 0,
  "metadata": {
    "colab": {
      "provenance": [],
      "authorship_tag": "ABX9TyPignB7do7C4a6K6RCXHA9+",
      "include_colab_link": true
    },
    "kernelspec": {
      "name": "python3",
      "display_name": "Python 3"
    },
    "language_info": {
      "name": "python"
    }
  },
  "cells": [
    {
      "cell_type": "markdown",
      "metadata": {
        "id": "view-in-github",
        "colab_type": "text"
      },
      "source": [
        "<a href=\"https://colab.research.google.com/github/dednomerios/ML_2024_Aliyari/blob/main/HW1_emtiazi/HW1_emtiazi.ipynb\" target=\"_parent\"><img src=\"https://colab.research.google.com/assets/colab-badge.svg\" alt=\"Open In Colab\"/></a>"
      ]
    },
    {
      "cell_type": "markdown",
      "source": [
        "# Soal 5"
      ],
      "metadata": {
        "id": "eD0Pl-wR1REU"
      }
    },
    {
      "cell_type": "code",
      "execution_count": 5,
      "metadata": {
        "colab": {
          "base_uri": "https://localhost:8080/"
        },
        "id": "Hl5gBNGH1NJP",
        "outputId": "0ff7927b-0d17-4be6-cf63-91187cf1c799"
      },
      "outputs": [
        {
          "output_type": "stream",
          "name": "stdout",
          "text": [
            "Is the matrix singular? No\n",
            "Is the matrix singular? Yes\n",
            "Is the matrix singular? Yes\n",
            "Is the matrix singular? No\n",
            "Is the matrix singular? Yes\n",
            "Is the matrix singular? Yes\n",
            "Is the matrix singular? Yes\n",
            "Is the matrix singular? No\n",
            "Is the matrix singular? Yes\n",
            "Is the matrix singular? No\n"
          ]
        }
      ],
      "source": [
        "import numpy as np\n",
        "import random\n",
        "\n",
        "\n",
        "for i in range(10):\n",
        "  a = random.randint(0, 5)\n",
        "  b = random.randint(0, 5)\n",
        "  c = random.randint(0, 5)\n",
        "  d = random.randint(0, 5)\n",
        "  e = random.randint(0, 5)\n",
        "  f = random.randint(0, 5)\n",
        "\n",
        "  upper_triangular_matrix = np.array([\n",
        "      [a, b, c],\n",
        "      [0, d, e],\n",
        "      [0, 0, f]\n",
        "  ])\n",
        "\n",
        "\n",
        "  is_singular = np.linalg.det(upper_triangular_matrix) == 0\n",
        "\n",
        "  print(f\"Is the matrix singular? {'Yes' if is_singular else 'No'}\")\n"
      ]
    },
    {
      "cell_type": "markdown",
      "source": [
        "# Soal 6"
      ],
      "metadata": {
        "id": "I9g2yzFk3QI_"
      }
    },
    {
      "cell_type": "code",
      "source": [],
      "metadata": {
        "id": "CyaAH2OV3UFh"
      },
      "execution_count": null,
      "outputs": []
    },
    {
      "cell_type": "code",
      "source": [],
      "metadata": {
        "id": "rjikYrS53U96"
      },
      "execution_count": null,
      "outputs": []
    }
  ]
}