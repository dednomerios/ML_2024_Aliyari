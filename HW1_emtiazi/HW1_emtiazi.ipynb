{
  "nbformat": 4,
  "nbformat_minor": 0,
  "metadata": {
    "colab": {
      "provenance": [],
      "authorship_tag": "ABX9TyMgI7mZ0dFofKJPPVDd/Ric",
      "include_colab_link": true
    },
    "kernelspec": {
      "name": "python3",
      "display_name": "Python 3"
    },
    "language_info": {
      "name": "python"
    }
  },
  "cells": [
    {
      "cell_type": "markdown",
      "metadata": {
        "id": "view-in-github",
        "colab_type": "text"
      },
      "source": [
        "<a href=\"https://colab.research.google.com/github/dednomerios/ML_2024_Aliyari/blob/main/HW1_emtiazi/HW1_emtiazi.ipynb\" target=\"_parent\"><img src=\"https://colab.research.google.com/assets/colab-badge.svg\" alt=\"Open In Colab\"/></a>"
      ]
    },
    {
      "cell_type": "markdown",
      "source": [
        "# Soal 5"
      ],
      "metadata": {
        "id": "eD0Pl-wR1REU"
      }
    },
    {
      "cell_type": "code",
      "source": [
        "import numpy as np\n",
        "import random\n",
        "number_of_iterations = 10\n",
        "for i in range(number_of_iterations):\n",
        "  random_vars = [random.randint(0,5) for _ in range(6)]\n",
        "\n",
        "  a, b, c, d, e, f = random_vars\n",
        "\n",
        "  upper_triangular_matrix = np.array([\n",
        "    [a, b, c],\n",
        "    [0, d, e],\n",
        "    [0, 0, f]\n",
        "  ])\n",
        "\n",
        "  print(f'the matrix is: \\n {upper_triangular_matrix}')\n",
        "  is_singular = np.linalg.det(upper_triangular_matrix) == 0\n",
        "\n",
        "  print(f\"Is the matrix singular? {'Yes' if is_singular else 'No'}\")\n"
      ],
      "metadata": {
        "colab": {
          "base_uri": "https://localhost:8080/"
        },
        "id": "XMASnhxJP9Ba",
        "outputId": "3ce18967-338c-49b8-e42c-ba126e235534"
      },
      "execution_count": 45,
      "outputs": [
        {
          "output_type": "stream",
          "name": "stdout",
          "text": [
            "the matrix is: \n",
            " [[3 4 2]\n",
            " [0 4 2]\n",
            " [0 0 1]]\n",
            "Is the matrix singular? No\n",
            "the matrix is: \n",
            " [[1 0 4]\n",
            " [0 0 5]\n",
            " [0 0 1]]\n",
            "Is the matrix singular? Yes\n",
            "the matrix is: \n",
            " [[1 2 2]\n",
            " [0 0 0]\n",
            " [0 0 5]]\n",
            "Is the matrix singular? Yes\n",
            "the matrix is: \n",
            " [[2 0 3]\n",
            " [0 3 2]\n",
            " [0 0 2]]\n",
            "Is the matrix singular? No\n",
            "the matrix is: \n",
            " [[1 5 0]\n",
            " [0 2 5]\n",
            " [0 0 5]]\n",
            "Is the matrix singular? No\n",
            "the matrix is: \n",
            " [[1 0 1]\n",
            " [0 0 4]\n",
            " [0 0 1]]\n",
            "Is the matrix singular? Yes\n",
            "the matrix is: \n",
            " [[5 1 2]\n",
            " [0 3 4]\n",
            " [0 0 5]]\n",
            "Is the matrix singular? No\n",
            "the matrix is: \n",
            " [[0 3 3]\n",
            " [0 3 5]\n",
            " [0 0 4]]\n",
            "Is the matrix singular? Yes\n",
            "the matrix is: \n",
            " [[2 0 5]\n",
            " [0 5 4]\n",
            " [0 0 4]]\n",
            "Is the matrix singular? No\n",
            "the matrix is: \n",
            " [[2 3 5]\n",
            " [0 2 5]\n",
            " [0 0 5]]\n",
            "Is the matrix singular? No\n"
          ]
        }
      ]
    },
    {
      "cell_type": "markdown",
      "source": [
        "# Soal 6"
      ],
      "metadata": {
        "id": "I9g2yzFk3QI_"
      }
    },
    {
      "cell_type": "code",
      "source": [
        "import numpy as np\n",
        "import timeit\n",
        "\n",
        "\n",
        "m, n = 20, 10\n",
        "A = np.random.rand(m, n)\n",
        "k = np.random.rand(n)\n",
        "\n",
        "def nested_mul():\n",
        "  p = np.zeros(m)\n",
        "  for i in range(n):\n",
        "    p += A[:, i] * k[i]\n",
        "  return p\n",
        "def vectorized_mul():\n",
        "  return np.matmul(A,k)\n",
        "\n",
        "nested_reult = nested_mul()\n",
        "vectorized_reult = vectorized_mul()\n",
        "\n",
        "np.allclose(nested_reult, vectorized_reult)\n",
        "print(f\"is they close? {'Yes' if np.allclose else 'No'}\")\n",
        "\n",
        "nested_mul_time = timeit.timeit(nested_mul, number = 10000)\n",
        "vectorized_mul_time = timeit.timeit(vectorized_mul, number = 10000)\n",
        "\n",
        "print(f\" Run time nested: {nested_mul_time:.7f} seconds\")\n",
        "print(f\" Run time vectorized: {vectorized_mul_time:.7f} seconds\")"
      ],
      "metadata": {
        "id": "CyaAH2OV3UFh",
        "colab": {
          "base_uri": "https://localhost:8080/"
        },
        "outputId": "8d1c85ad-f1b0-41ee-df28-a66885e46cc7"
      },
      "execution_count": 44,
      "outputs": [
        {
          "output_type": "stream",
          "name": "stdout",
          "text": [
            "is they close? Yes\n",
            " Run time nested: 0.1850998 seconds\n",
            " Run time vectorized: 0.0122411 seconds\n"
          ]
        }
      ]
    }
  ]
}