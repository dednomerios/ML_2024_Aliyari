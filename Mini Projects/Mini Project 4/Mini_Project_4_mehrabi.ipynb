{
  "cells": [
    {
      "cell_type": "code",
      "source": [
        "!pip install rarfile --quiet\n",
        "!apt-get update\n",
        "!apt-get install -y swig\n",
        "!pip install stable-baselines3 > /dev/null\n",
        "!pip install box2d-py > /dev/null\n",
        "!pip install gym pyvirtualdisplay > /dev/null 2>&1\n",
        "!sudo apt-get install -y xvfb python-opengl ffmpeg > /dev/null 2>&1"
      ],
      "metadata": {
        "id": "JpJvkl8Z2Dw1",
        "collapsed": true,
        "colab": {
          "base_uri": "https://localhost:8080/"
        },
        "outputId": "85ccfa8b-895f-42be-d8fb-33f6101de88e"
      },
      "execution_count": 1,
      "outputs": [
        {
          "output_type": "stream",
          "name": "stdout",
          "text": [
            "\r0% [Working]\r            \rGet:1 https://cloud.r-project.org/bin/linux/ubuntu jammy-cran40/ InRelease [3,626 B]\n",
            "Get:2 https://developer.download.nvidia.com/compute/cuda/repos/ubuntu2204/x86_64  InRelease [1,581 B]\n",
            "Get:3 https://developer.download.nvidia.com/compute/cuda/repos/ubuntu2204/x86_64  Packages [973 kB]\n",
            "Get:4 http://security.ubuntu.com/ubuntu jammy-security InRelease [129 kB]\n",
            "Hit:5 http://archive.ubuntu.com/ubuntu jammy InRelease\n",
            "Get:6 http://archive.ubuntu.com/ubuntu jammy-updates InRelease [128 kB]\n",
            "Hit:7 https://ppa.launchpadcontent.net/c2d4u.team/c2d4u4.0+/ubuntu jammy InRelease\n",
            "Hit:8 https://ppa.launchpadcontent.net/deadsnakes/ppa/ubuntu jammy InRelease\n",
            "Hit:9 https://ppa.launchpadcontent.net/graphics-drivers/ppa/ubuntu jammy InRelease\n",
            "Get:10 http://security.ubuntu.com/ubuntu jammy-security/restricted amd64 Packages [2,591 kB]\n",
            "Hit:11 https://ppa.launchpadcontent.net/ubuntugis/ppa/ubuntu jammy InRelease\n",
            "Get:12 http://archive.ubuntu.com/ubuntu jammy-backports InRelease [127 kB]\n",
            "Get:13 http://archive.ubuntu.com/ubuntu jammy-updates/restricted amd64 Packages [2,664 kB]\n",
            "Get:14 http://security.ubuntu.com/ubuntu jammy-security/universe amd64 Packages [1,125 kB]\n",
            "Get:15 http://security.ubuntu.com/ubuntu jammy-security/main amd64 Packages [1,994 kB]\n",
            "Get:16 http://archive.ubuntu.com/ubuntu jammy-updates/universe amd64 Packages [1,409 kB]\n",
            "Get:17 http://archive.ubuntu.com/ubuntu jammy-updates/main amd64 Packages [2,258 kB]\n",
            "Fetched 13.4 MB in 4s (3,597 kB/s)\n",
            "Reading package lists... Done\n",
            "Reading package lists... Done\n",
            "Building dependency tree... Done\n",
            "Reading state information... Done\n",
            "The following additional packages will be installed:\n",
            "  swig4.0\n",
            "Suggested packages:\n",
            "  swig-doc swig-examples swig4.0-examples swig4.0-doc\n",
            "The following NEW packages will be installed:\n",
            "  swig swig4.0\n",
            "0 upgraded, 2 newly installed, 0 to remove and 45 not upgraded.\n",
            "Need to get 1,116 kB of archives.\n",
            "After this operation, 5,542 kB of additional disk space will be used.\n",
            "Get:1 http://archive.ubuntu.com/ubuntu jammy/universe amd64 swig4.0 amd64 4.0.2-1ubuntu1 [1,110 kB]\n",
            "Get:2 http://archive.ubuntu.com/ubuntu jammy/universe amd64 swig all 4.0.2-1ubuntu1 [5,632 B]\n",
            "Fetched 1,116 kB in 2s (530 kB/s)\n",
            "Selecting previously unselected package swig4.0.\n",
            "(Reading database ... 121925 files and directories currently installed.)\n",
            "Preparing to unpack .../swig4.0_4.0.2-1ubuntu1_amd64.deb ...\n",
            "Unpacking swig4.0 (4.0.2-1ubuntu1) ...\n",
            "Selecting previously unselected package swig.\n",
            "Preparing to unpack .../swig_4.0.2-1ubuntu1_all.deb ...\n",
            "Unpacking swig (4.0.2-1ubuntu1) ...\n",
            "Setting up swig4.0 (4.0.2-1ubuntu1) ...\n",
            "Setting up swig (4.0.2-1ubuntu1) ...\n",
            "Processing triggers for man-db (2.10.2-1) ...\n"
          ]
        }
      ]
    },
    {
      "cell_type": "code",
      "execution_count": 2,
      "metadata": {
        "id": "B5S1SyylO8VI",
        "colab": {
          "base_uri": "https://localhost:8080/"
        },
        "outputId": "023a38c4-3773-4e5c-e879-4303da4b294e"
      },
      "outputs": [
        {
          "output_type": "stream",
          "name": "stdout",
          "text": [
            "Requirement already satisfied: gym in /usr/local/lib/python3.10/dist-packages (0.25.2)\n",
            "Collecting gym\n",
            "  Downloading gym-0.26.2.tar.gz (721 kB)\n",
            "\u001b[2K     \u001b[90m━━━━━━━━━━━━━━━━━━━━━━━━━━━━━━━━━━━━━━━━\u001b[0m \u001b[32m721.7/721.7 kB\u001b[0m \u001b[31m13.3 MB/s\u001b[0m eta \u001b[36m0:00:00\u001b[0m\n",
            "\u001b[?25h  Installing build dependencies ... \u001b[?25l\u001b[?25hdone\n",
            "  Getting requirements to build wheel ... \u001b[?25l\u001b[?25hdone\n",
            "  Preparing metadata (pyproject.toml) ... \u001b[?25l\u001b[?25hdone\n",
            "Requirement already satisfied: numpy>=1.18.0 in /usr/local/lib/python3.10/dist-packages (from gym) (1.25.2)\n",
            "Requirement already satisfied: cloudpickle>=1.2.0 in /usr/local/lib/python3.10/dist-packages (from gym) (2.2.1)\n",
            "Requirement already satisfied: gym-notices>=0.0.4 in /usr/local/lib/python3.10/dist-packages (from gym) (0.0.8)\n",
            "Building wheels for collected packages: gym\n",
            "  Building wheel for gym (pyproject.toml) ... \u001b[?25l\u001b[?25hdone\n",
            "  Created wheel for gym: filename=gym-0.26.2-py3-none-any.whl size=827622 sha256=206141a93ad0e69dbaee0ad42fd3ec38dd3faf2e85016252d119def4b20af047\n",
            "  Stored in directory: /root/.cache/pip/wheels/b9/22/6d/3e7b32d98451b4cd9d12417052affbeeeea012955d437da1da\n",
            "Successfully built gym\n",
            "Installing collected packages: gym\n",
            "  Attempting uninstall: gym\n",
            "    Found existing installation: gym 0.25.2\n",
            "    Uninstalling gym-0.25.2:\n",
            "      Successfully uninstalled gym-0.25.2\n",
            "\u001b[31mERROR: pip's dependency resolver does not currently take into account all the packages that are installed. This behaviour is the source of the following dependency conflicts.\n",
            "dopamine-rl 4.0.9 requires gym<=0.25.2, but you have gym 0.26.2 which is incompatible.\u001b[0m\u001b[31m\n",
            "\u001b[0mSuccessfully installed gym-0.26.2\n",
            "Collecting pyglet\n",
            "  Downloading pyglet-2.0.15-py3-none-any.whl (884 kB)\n",
            "\u001b[2K     \u001b[90m━━━━━━━━━━━━━━━━━━━━━━━━━━━━━━━━━━━━━━━━\u001b[0m \u001b[32m884.3/884.3 kB\u001b[0m \u001b[31m18.8 MB/s\u001b[0m eta \u001b[36m0:00:00\u001b[0m\n",
            "\u001b[?25hInstalling collected packages: pyglet\n",
            "Successfully installed pyglet-2.0.15\n",
            "Collecting Box2D\n",
            "  Downloading Box2D-2.3.2.tar.gz (427 kB)\n",
            "\u001b[2K     \u001b[90m━━━━━━━━━━━━━━━━━━━━━━━━━━━━━━━━━━━━━━━━\u001b[0m \u001b[32m427.9/427.9 kB\u001b[0m \u001b[31m9.2 MB/s\u001b[0m eta \u001b[36m0:00:00\u001b[0m\n",
            "\u001b[?25h  Preparing metadata (setup.py) ... \u001b[?25l\u001b[?25hdone\n",
            "Building wheels for collected packages: Box2D\n",
            "  Building wheel for Box2D (setup.py) ... \u001b[?25l\u001b[?25hdone\n",
            "  Created wheel for Box2D: filename=Box2D-2.3.2-cp310-cp310-linux_x86_64.whl size=2367282 sha256=ff1c9bf05166c25fdeaa8eb19f92dd6e8824968fa0b4169d6b287078588c3532\n",
            "  Stored in directory: /root/.cache/pip/wheels/eb/cb/be/e663f3ce9aba6580611c0febaf7cd3cf7603f87047de2a52f9\n",
            "Successfully built Box2D\n",
            "Installing collected packages: Box2D\n",
            "Successfully installed Box2D-2.3.2\n",
            "Requirement already satisfied: box2d-py in /usr/local/lib/python3.10/dist-packages (2.3.8)\n",
            "Requirement already satisfied: gym[Box_2D] in /usr/local/lib/python3.10/dist-packages (0.26.2)\n",
            "\u001b[33mWARNING: gym 0.26.2 does not provide the extra 'box_2d'\u001b[0m\u001b[33m\n",
            "\u001b[0mRequirement already satisfied: numpy>=1.18.0 in /usr/local/lib/python3.10/dist-packages (from gym[Box_2D]) (1.25.2)\n",
            "Requirement already satisfied: cloudpickle>=1.2.0 in /usr/local/lib/python3.10/dist-packages (from gym[Box_2D]) (2.2.1)\n",
            "Requirement already satisfied: gym-notices>=0.0.4 in /usr/local/lib/python3.10/dist-packages (from gym[Box_2D]) (0.0.8)\n",
            "Requirement already satisfied: gym[box2d] in /usr/local/lib/python3.10/dist-packages (0.26.2)\n",
            "Requirement already satisfied: numpy>=1.18.0 in /usr/local/lib/python3.10/dist-packages (from gym[box2d]) (1.25.2)\n",
            "Requirement already satisfied: cloudpickle>=1.2.0 in /usr/local/lib/python3.10/dist-packages (from gym[box2d]) (2.2.1)\n",
            "Requirement already satisfied: gym-notices>=0.0.4 in /usr/local/lib/python3.10/dist-packages (from gym[box2d]) (0.0.8)\n",
            "Collecting box2d-py==2.3.5 (from gym[box2d])\n",
            "  Downloading box2d-py-2.3.5.tar.gz (374 kB)\n",
            "\u001b[2K     \u001b[90m━━━━━━━━━━━━━━━━━━━━━━━━━━━━━━━━━━━━━━━━\u001b[0m \u001b[32m374.4/374.4 kB\u001b[0m \u001b[31m10.1 MB/s\u001b[0m eta \u001b[36m0:00:00\u001b[0m\n",
            "\u001b[?25h  Preparing metadata (setup.py) ... \u001b[?25l\u001b[?25hdone\n",
            "Collecting pygame==2.1.0 (from gym[box2d])\n",
            "  Downloading pygame-2.1.0-cp310-cp310-manylinux_2_17_x86_64.manylinux2014_x86_64.whl (18.3 MB)\n",
            "\u001b[2K     \u001b[90m━━━━━━━━━━━━━━━━━━━━━━━━━━━━━━━━━━━━━━━━\u001b[0m \u001b[32m18.3/18.3 MB\u001b[0m \u001b[31m53.7 MB/s\u001b[0m eta \u001b[36m0:00:00\u001b[0m\n",
            "\u001b[?25hCollecting swig==4.* (from gym[box2d])\n",
            "  Downloading swig-4.2.1-py2.py3-none-manylinux_2_5_x86_64.manylinux1_x86_64.whl (1.9 MB)\n",
            "\u001b[2K     \u001b[90m━━━━━━━━━━━━━━━━━━━━━━━━━━━━━━━━━━━━━━━━\u001b[0m \u001b[32m1.9/1.9 MB\u001b[0m \u001b[31m60.3 MB/s\u001b[0m eta \u001b[36m0:00:00\u001b[0m\n",
            "\u001b[?25hBuilding wheels for collected packages: box2d-py\n",
            "  Building wheel for box2d-py (setup.py) ... \u001b[?25l\u001b[?25hdone\n",
            "  Created wheel for box2d-py: filename=box2d_py-2.3.5-cp310-cp310-linux_x86_64.whl size=2349114 sha256=df03a705173cb8032e8ef409ddd4b9082e4d58323544be600bf3efbcf3d28301\n",
            "  Stored in directory: /root/.cache/pip/wheels/db/8f/6a/eaaadf056fba10a98d986f6dce954e6201ba3126926fc5ad9e\n",
            "Successfully built box2d-py\n",
            "Installing collected packages: swig, box2d-py, pygame\n",
            "  Attempting uninstall: box2d-py\n",
            "    Found existing installation: box2d-py 2.3.8\n",
            "    Uninstalling box2d-py-2.3.8:\n",
            "      Successfully uninstalled box2d-py-2.3.8\n",
            "  Attempting uninstall: pygame\n",
            "    Found existing installation: pygame 2.6.0\n",
            "    Uninstalling pygame-2.6.0:\n",
            "      Successfully uninstalled pygame-2.6.0\n",
            "\u001b[31mERROR: pip's dependency resolver does not currently take into account all the packages that are installed. This behaviour is the source of the following dependency conflicts.\n",
            "dopamine-rl 4.0.9 requires gym<=0.25.2, but you have gym 0.26.2 which is incompatible.\u001b[0m\u001b[31m\n",
            "\u001b[0mSuccessfully installed box2d-py-2.3.5 pygame-2.1.0 swig-4.2.1\n"
          ]
        }
      ],
      "source": [
        "# install dependencies\n",
        "!pip3 install gym --upgrade\n",
        "!pip3 install pyglet\n",
        "!pip3 install Box2D\n",
        "!pip3 install box2d-py\n",
        "!pip3 install gym[Box_2D]\n",
        "!pip3 install gym[box2d]"
      ]
    },
    {
      "cell_type": "code",
      "source": [
        "!sudo apt-get update\n",
        "!sudo apt-get install xvfb"
      ],
      "metadata": {
        "colab": {
          "base_uri": "https://localhost:8080/"
        },
        "id": "ZmrT1OrO8uQE",
        "outputId": "16c6c76b-c00e-4532-df32-fd32fdd8642c"
      },
      "execution_count": 3,
      "outputs": [
        {
          "output_type": "stream",
          "name": "stdout",
          "text": [
            "\r0% [Working]\r            \rHit:1 https://cloud.r-project.org/bin/linux/ubuntu jammy-cran40/ InRelease\n",
            "Hit:2 https://developer.download.nvidia.com/compute/cuda/repos/ubuntu2204/x86_64  InRelease\n",
            "Hit:3 http://security.ubuntu.com/ubuntu jammy-security InRelease\n",
            "Hit:4 http://archive.ubuntu.com/ubuntu jammy InRelease\n",
            "Hit:5 http://archive.ubuntu.com/ubuntu jammy-updates InRelease\n",
            "Hit:6 http://archive.ubuntu.com/ubuntu jammy-backports InRelease\n",
            "Hit:7 https://ppa.launchpadcontent.net/c2d4u.team/c2d4u4.0+/ubuntu jammy InRelease\n",
            "Hit:8 https://ppa.launchpadcontent.net/deadsnakes/ppa/ubuntu jammy InRelease\n",
            "Hit:9 https://ppa.launchpadcontent.net/graphics-drivers/ppa/ubuntu jammy InRelease\n",
            "Hit:10 https://ppa.launchpadcontent.net/ubuntugis/ppa/ubuntu jammy InRelease\n",
            "Reading package lists... Done\n",
            "Reading package lists... Done\n",
            "Building dependency tree... Done\n",
            "Reading state information... Done\n",
            "The following additional packages will be installed:\n",
            "  libfontenc1 libxfont2 libxkbfile1 x11-xkb-utils xfonts-base xfonts-encodings\n",
            "  xfonts-utils xserver-common\n",
            "The following NEW packages will be installed:\n",
            "  libfontenc1 libxfont2 libxkbfile1 x11-xkb-utils xfonts-base xfonts-encodings\n",
            "  xfonts-utils xserver-common xvfb\n",
            "0 upgraded, 9 newly installed, 0 to remove and 45 not upgraded.\n",
            "Need to get 7,813 kB of archives.\n",
            "After this operation, 11.9 MB of additional disk space will be used.\n",
            "Get:1 http://archive.ubuntu.com/ubuntu jammy/main amd64 libfontenc1 amd64 1:1.1.4-1build3 [14.7 kB]\n",
            "Get:2 http://archive.ubuntu.com/ubuntu jammy/main amd64 libxfont2 amd64 1:2.0.5-1build1 [94.5 kB]\n",
            "Get:3 http://archive.ubuntu.com/ubuntu jammy/main amd64 libxkbfile1 amd64 1:1.1.0-1build3 [71.8 kB]\n",
            "Get:4 http://archive.ubuntu.com/ubuntu jammy/main amd64 x11-xkb-utils amd64 7.7+5build4 [172 kB]\n",
            "Get:5 http://archive.ubuntu.com/ubuntu jammy/main amd64 xfonts-encodings all 1:1.0.5-0ubuntu2 [578 kB]\n",
            "Get:6 http://archive.ubuntu.com/ubuntu jammy/main amd64 xfonts-utils amd64 1:7.7+6build2 [94.6 kB]\n",
            "Get:7 http://archive.ubuntu.com/ubuntu jammy/main amd64 xfonts-base all 1:1.0.5 [5,896 kB]\n",
            "Get:8 http://archive.ubuntu.com/ubuntu jammy-updates/main amd64 xserver-common all 2:21.1.4-2ubuntu1.7~22.04.10 [28.5 kB]\n",
            "Get:9 http://archive.ubuntu.com/ubuntu jammy-updates/universe amd64 xvfb amd64 2:21.1.4-2ubuntu1.7~22.04.10 [863 kB]\n",
            "Fetched 7,813 kB in 2s (3,641 kB/s)\n",
            "debconf: unable to initialize frontend: Dialog\n",
            "debconf: (No usable dialog-like program is installed, so the dialog based frontend cannot be used. at /usr/share/perl5/Debconf/FrontEnd/Dialog.pm line 78, <> line 9.)\n",
            "debconf: falling back to frontend: Readline\n",
            "debconf: unable to initialize frontend: Readline\n",
            "debconf: (This frontend requires a controlling tty.)\n",
            "debconf: falling back to frontend: Teletype\n",
            "dpkg-preconfigure: unable to re-open stdin: \n",
            "Selecting previously unselected package libfontenc1:amd64.\n",
            "(Reading database ... 122678 files and directories currently installed.)\n",
            "Preparing to unpack .../0-libfontenc1_1%3a1.1.4-1build3_amd64.deb ...\n",
            "Unpacking libfontenc1:amd64 (1:1.1.4-1build3) ...\n",
            "Selecting previously unselected package libxfont2:amd64.\n",
            "Preparing to unpack .../1-libxfont2_1%3a2.0.5-1build1_amd64.deb ...\n",
            "Unpacking libxfont2:amd64 (1:2.0.5-1build1) ...\n",
            "Selecting previously unselected package libxkbfile1:amd64.\n",
            "Preparing to unpack .../2-libxkbfile1_1%3a1.1.0-1build3_amd64.deb ...\n",
            "Unpacking libxkbfile1:amd64 (1:1.1.0-1build3) ...\n",
            "Selecting previously unselected package x11-xkb-utils.\n",
            "Preparing to unpack .../3-x11-xkb-utils_7.7+5build4_amd64.deb ...\n",
            "Unpacking x11-xkb-utils (7.7+5build4) ...\n",
            "Selecting previously unselected package xfonts-encodings.\n",
            "Preparing to unpack .../4-xfonts-encodings_1%3a1.0.5-0ubuntu2_all.deb ...\n",
            "Unpacking xfonts-encodings (1:1.0.5-0ubuntu2) ...\n",
            "Selecting previously unselected package xfonts-utils.\n",
            "Preparing to unpack .../5-xfonts-utils_1%3a7.7+6build2_amd64.deb ...\n",
            "Unpacking xfonts-utils (1:7.7+6build2) ...\n",
            "Selecting previously unselected package xfonts-base.\n",
            "Preparing to unpack .../6-xfonts-base_1%3a1.0.5_all.deb ...\n",
            "Unpacking xfonts-base (1:1.0.5) ...\n",
            "Selecting previously unselected package xserver-common.\n",
            "Preparing to unpack .../7-xserver-common_2%3a21.1.4-2ubuntu1.7~22.04.10_all.deb ...\n",
            "Unpacking xserver-common (2:21.1.4-2ubuntu1.7~22.04.10) ...\n",
            "Selecting previously unselected package xvfb.\n",
            "Preparing to unpack .../8-xvfb_2%3a21.1.4-2ubuntu1.7~22.04.10_amd64.deb ...\n",
            "Unpacking xvfb (2:21.1.4-2ubuntu1.7~22.04.10) ...\n",
            "Setting up libfontenc1:amd64 (1:1.1.4-1build3) ...\n",
            "Setting up xfonts-encodings (1:1.0.5-0ubuntu2) ...\n",
            "Setting up libxkbfile1:amd64 (1:1.1.0-1build3) ...\n",
            "Setting up libxfont2:amd64 (1:2.0.5-1build1) ...\n",
            "Setting up x11-xkb-utils (7.7+5build4) ...\n",
            "Setting up xfonts-utils (1:7.7+6build2) ...\n",
            "Setting up xfonts-base (1:1.0.5) ...\n",
            "Setting up xserver-common (2:21.1.4-2ubuntu1.7~22.04.10) ...\n",
            "Setting up xvfb (2:21.1.4-2ubuntu1.7~22.04.10) ...\n",
            "Processing triggers for man-db (2.10.2-1) ...\n",
            "Processing triggers for fontconfig (2.13.1-4.2ubuntu5) ...\n",
            "Processing triggers for libc-bin (2.35-0ubuntu3.4) ...\n",
            "/sbin/ldconfig.real: /usr/local/lib/libtbb.so.12 is not a symbolic link\n",
            "\n",
            "/sbin/ldconfig.real: /usr/local/lib/libtbbmalloc_proxy.so.2 is not a symbolic link\n",
            "\n",
            "/sbin/ldconfig.real: /usr/local/lib/libtbbbind_2_5.so.3 is not a symbolic link\n",
            "\n",
            "/sbin/ldconfig.real: /usr/local/lib/libtbbbind_2_0.so.3 is not a symbolic link\n",
            "\n",
            "/sbin/ldconfig.real: /usr/local/lib/libtbbbind.so.3 is not a symbolic link\n",
            "\n",
            "/sbin/ldconfig.real: /usr/local/lib/libtbbmalloc.so.2 is not a symbolic link\n",
            "\n"
          ]
        }
      ]
    },
    {
      "cell_type": "code",
      "execution_count": 4,
      "metadata": {
        "colab": {
          "base_uri": "https://localhost:8080/"
        },
        "id": "V5j3em8QPiXT",
        "outputId": "c628f8e6-e997-448e-ab4a-6bcd4bee1dcd",
        "pycharm": {
          "is_executing": true
        }
      },
      "outputs": [
        {
          "output_type": "execute_result",
          "data": {
            "text/plain": [
              "device(type='cuda')"
            ]
          },
          "metadata": {},
          "execution_count": 4
        }
      ],
      "source": [
        "import torch\n",
        "\n",
        "# if gpu is to be used\n",
        "device = torch.device(\"cuda\" if torch.cuda.is_available() else \"cpu\")\n",
        "device"
      ]
    },
    {
      "cell_type": "markdown",
      "metadata": {
        "id": "zKsgfLec0msE"
      },
      "source": [
        "The input state of the Lunar Lander consists of following components:\n",
        "\n",
        "  1. Horizontal Position\n",
        "  2. Vertical Position\n",
        "  3. Horizontal Velocity\n",
        "  4. Vertical Velocity\n",
        "  5. Angle\n",
        "  6. Angular Velocity\n",
        "  7. Left Leg Contact\n",
        "  8. Right Leg Contact\n",
        "\n",
        "The actions of the agents are:\n",
        "  1. Do Nothing\n",
        "  2. Fire Main Engine\n",
        "  3. Fire Left Engine\n",
        "  4. Fire Right Engine"
      ]
    },
    {
      "cell_type": "code",
      "execution_count": 5,
      "metadata": {
        "id": "AMgs5pl6Psif",
        "pycharm": {
          "is_executing": false
        },
        "colab": {
          "base_uri": "https://localhost:8080/"
        },
        "outputId": "20470809-a9ce-44a8-abd5-db540ebb4158"
      },
      "outputs": [
        {
          "output_type": "execute_result",
          "data": {
            "text/plain": [
              "(8, 4)"
            ]
          },
          "metadata": {},
          "execution_count": 5
        }
      ],
      "source": [
        "# enviroment\n",
        "import gym\n",
        "env = gym.make('LunarLander-v2', render_mode=\"rgb_array\")\n",
        "#TODO: find observation size: 8\n",
        "state_size = env.observation_space.shape[0]\n",
        "#TODO: find action size: 4: 0- Do nothing 1- Fire left engine 2- Fire down engine 3- Fire right engine\n",
        "action_size = env.action_space.n\n",
        "state_size, action_size"
      ]
    },
    {
      "cell_type": "code",
      "execution_count": 6,
      "metadata": {
        "id": "jPSFgqEE0msI"
      },
      "outputs": [],
      "source": [
        "# VIDEO\n",
        "import io\n",
        "import os\n",
        "import glob\n",
        "import torch\n",
        "import base64\n",
        "import stable_baselines3\n",
        "import numpy as np\n",
        "import matplotlib.pyplot as plt\n",
        "from stable_baselines3 import DQN\n",
        "from stable_baselines3.common.results_plotter import ts2xy, load_results\n",
        "from stable_baselines3.common.callbacks import EvalCallback\n",
        "from stable_baselines3.common.env_util import make_atari_env\n",
        "import gym\n",
        "from gym import spaces\n",
        "from gym.wrappers import RecordVideo\n",
        "from gym.wrappers.monitoring import video_recorder\n",
        "from IPython.display import HTML\n",
        "from IPython import display\n",
        "from IPython import display as ipythondisplay\n",
        "from IPython import display as ipythondisplay\n",
        "from pyvirtualdisplay import Display\n",
        "import random\n",
        "from collections import namedtuple, deque\n",
        "import torch.nn as nn\n",
        "import torch.nn.functional as F\n",
        "import torch.optim as optim\n",
        "\n",
        "display = Display(visible=0, size=(1400, 900))\n",
        "display.start()\n",
        "\n",
        "\"\"\"\n",
        "Utility functions to enable video recording of gym environment\n",
        "and displaying it.\n",
        "To enable video, just do \"env = wrap_env(env)\"\"\n",
        "\"\"\"\n",
        "\n",
        "def show_video():\n",
        "  mp4list = glob.glob('video/*.mp4')\n",
        "  if len(mp4list) > 0:\n",
        "      mp4 = mp4list[0]\n",
        "      video = io.open(mp4, 'r+b').read()\n",
        "      encoded = base64.b64encode(video)\n",
        "      ipythondisplay.display(HTML(data='''<video alt=\"test\" autoplay loop controls style=\"height: 400px;\">\n",
        "                  <source src=\"data:video/mp4;base64,{0}\" type=\"video/mp4\" />\n",
        "                </video>'''.format(encoded.decode('ascii'))))\n",
        "  else:\n",
        "      print(\"Could not find video\")"
      ]
    },
    {
      "cell_type": "code",
      "execution_count": 7,
      "metadata": {
        "id": "-cVE_4EtPyNz"
      },
      "outputs": [],
      "source": [
        "# experience replay\n",
        "import random\n",
        "from collections import namedtuple, deque\n",
        "\n",
        "Transition = namedtuple('Transition', ('state', 'action', 'next_state', 'reward', 'done'))\n",
        "\n",
        "class ExperienceReplay():\n",
        "    def __init__(self, capacity):\n",
        "        self.memory = deque([], maxlen=capacity)\n",
        "\n",
        "    def store_trans(self, s, a, sp, r, done):\n",
        "        transition = Transition(s, a, sp, r, done)\n",
        "        self.memory.append(transition)\n",
        "\n",
        "    def sample(self, batch_size):\n",
        "        return random.sample(self.memory, batch_size)\n",
        "\n",
        "    def __len__(self):\n",
        "        return len(self.memory)\n"
      ]
    },
    {
      "cell_type": "code",
      "execution_count": 8,
      "metadata": {
        "id": "pUgDbqH4NWYZ"
      },
      "outputs": [],
      "source": [
        "# DQN\n",
        "import torch.nn as nn\n",
        "import torch.nn.functional as F\n",
        "\n",
        "#Mine\n",
        "class DeepQNetwork(nn.Module):\n",
        "    def __init__(self, state_size, action_size):\n",
        "        super(DeepQNetwork, self).__init__()\n",
        "        self.net = nn.Sequential(\n",
        "            nn.Linear(state_size, 512),\n",
        "            nn.ReLU(),\n",
        "            nn.LayerNorm(512),\n",
        "            nn.Dropout(0.1),\n",
        "            nn.Linear(512, 512),\n",
        "            nn.ReLU(),\n",
        "            nn.LayerNorm(512),\n",
        "            nn.Dropout(0.1),\n",
        "            nn.Linear(512, 512),\n",
        "            nn.ReLU(),\n",
        "            nn.Linear(512, action_size)\n",
        "        )\n",
        "\n",
        "    def forward(self, x):\n",
        "        return self.net(x)\n"
      ]
    },
    {
      "cell_type": "markdown",
      "metadata": {
        "id": "wgMI1JCLMuaf"
      },
      "source": [
        "## DQN"
      ]
    },
    {
      "cell_type": "code",
      "execution_count": 9,
      "metadata": {
        "id": "mxLkRp2_P05m"
      },
      "outputs": [],
      "source": [
        "# DQN agent\n",
        "import numpy as np\n",
        "import torch\n",
        "import torch.nn as nn\n",
        "import torch.nn.functional as F\n",
        "import torch.optim as optim\n",
        "\n",
        "# class DQNAgent():\n",
        "#     # NOTE: DON'T change initial values\n",
        "#     def __init__(self, state_size, action_size, batch_size,\n",
        "#                  gamma=0.99, buffer_size=25000, alpha=1e-4):\n",
        "#         # network parameter\n",
        "#         self.state_size = state_size\n",
        "#         self.action_size = action_size\n",
        "\n",
        "#         # hyperparameters\n",
        "#         self.batch_size = batch_size\n",
        "#         self.gamma = gamma\n",
        "\n",
        "#         # experience replay\n",
        "#         self.experience_replay = ExperienceReplay(buffer_size)\n",
        "\n",
        "#         # network\n",
        "#         self.value_net = DeepQNetwork(state_size, action_size).to(device)\n",
        "\n",
        "#         # optimizer\n",
        "#         # TODO: create adam for optimizing network's parameter (learning rate=alpha)\n",
        "#         self.optimizer = optim.Adam(self.value_net.parameters(), lr=alpha)\n",
        "\n",
        "#     def take_action(self, state, eps=0.0):\n",
        "#         # TODO: take action using e-greedy policy\n",
        "#         # NOTE: takes action using the greedy policy with a probability of 1−𝜖 and a random action with a probability of 𝜖\n",
        "#         # NOTE:\n",
        "#         self.value_net.eval()\n",
        "#         rand_eps = random.random()\n",
        "#         if rand_eps > eps:\n",
        "#             with torch.no_grad():\n",
        "#                 return torch.argmax(self.value_net(torch.tensor(state).to(device))).detach().cpu().numpy()\n",
        "#         else:\n",
        "#             return np.random.randint(0, self.action_size)\n",
        "\n",
        "#     def update_params(self):\n",
        "#         if len(self.experience_replay) < self.batch_size:\n",
        "#             return\n",
        "#         # transition batch\n",
        "#         batch = Transition(*zip(*self.experience_replay.sample(self.batch_size)))\n",
        "\n",
        "#         state_batch = torch.from_numpy(np.vstack(batch.state)).float().to(device)  # [8, 8]\n",
        "#         action_batch = torch.tensor(np.vstack(batch.action)).long().to(device) # [8, 1]\n",
        "#         next_state_batch = torch.from_numpy(np.vstack(batch.next_state)).float().to(device) # [8, 8]\n",
        "#         reward_batch = torch.tensor(np.vstack(batch.reward)).float().to(device) # [8, 1]\n",
        "#         done_batch = torch.tensor(np.vstack(batch.done)).to(device)\n",
        "\n",
        "#         # calculate loss w.r.t DQN algorithm\n",
        "#         self.value_net.train()\n",
        "#         # STEP1\n",
        "#         q_expected = self.value_net(state_batch).gather(1, action_batch)\n",
        "#         # TODO: compute the expected Q values [y]\n",
        "#         # STEP2\n",
        "#         # TODO: compute Q values [Q(s_t, a)]\n",
        "#         q_targets_next = self.value_net(next_state_batch).detach().max(1)[0].unsqueeze(1)\n",
        "#         q_targets = reward_batch + (self.gamma * q_targets_next * (1 - done_batch*1))\n",
        "#         # STEP3\n",
        "#         # TODO: compute mse loss\n",
        "#         loss = nn.functional.mse_loss(q_expected, q_targets)\n",
        "#         # TODO: optimize the model\n",
        "#         # NOTE: DON'T forget to set the gradients to zeros\n",
        "#         self.optimizer.zero_grad()\n",
        "#         loss.backward()\n",
        "#         self.optimizer.step()\n",
        "#     def save(self, fname):\n",
        "#         # TODO: save checkpoint\n",
        "#         torch.save(self.value_net, fname)\n",
        "\n",
        "#     def load(self, fname, device):\n",
        "#         # TODO: load checkpoint\n",
        "#         self.value_net = torch.load(fname, device)\n",
        "\n",
        "\n",
        "# Mine\n",
        "class DQNAgent():\n",
        "    def __init__(self, state_size, action_size, batch_size, gamma=0.99, buffer_size=25000, alpha=1e-4, tau=1e-3):\n",
        "        self.state_size = state_size\n",
        "        self.action_size = action_size\n",
        "        self.batch_size = batch_size\n",
        "        self.gamma = gamma\n",
        "        self.tau = tau  # For soft update of target network parameters\n",
        "        self.experience_replay = ExperienceReplay(buffer_size)\n",
        "\n",
        "        # Main network\n",
        "        self.value_net = DeepQNetwork(state_size, action_size).to(device)\n",
        "        # Target network\n",
        "        self.target_net = DeepQNetwork(state_size, action_size).to(device)\n",
        "        self.target_net.load_state_dict(self.value_net.state_dict())\n",
        "        self.target_net.eval()  # Target network does not train\n",
        "\n",
        "        self.optimizer = optim.Adam(self.value_net.parameters(), lr=alpha)\n",
        "\n",
        "    def take_action(self, state, eps=0.0):\n",
        "        self.value_net.eval()\n",
        "        if random.random() > eps:\n",
        "            with torch.no_grad():\n",
        "                return torch.argmax(self.value_net(torch.tensor(state).float().unsqueeze(0).to(device))).item()\n",
        "        else:\n",
        "            return np.random.randint(0, self.action_size)\n",
        "\n",
        "    def update_params(self):\n",
        "        if len(self.experience_replay) < self.batch_size:\n",
        "            return\n",
        "        batch = Transition(*zip(*self.experience_replay.sample(self.batch_size)))\n",
        "\n",
        "        state_batch = torch.tensor(np.array(batch.state), dtype=torch.float32).to(device)\n",
        "        action_batch = torch.tensor(batch.action, dtype=torch.int64).unsqueeze(1).to(device)\n",
        "        next_state_batch = torch.tensor(np.array(batch.next_state), dtype=torch.float32).to(device)\n",
        "        reward_batch = torch.tensor(batch.reward, dtype=torch.float32).unsqueeze(1).to(device)\n",
        "        done_batch = torch.tensor(batch.done, dtype=torch.float32).unsqueeze(1).to(device)\n",
        "\n",
        "        q_expected = self.value_net(state_batch).gather(1, action_batch)\n",
        "        q_targets_next = self.target_net(next_state_batch).detach().max(1)[0].unsqueeze(1)\n",
        "        q_targets = reward_batch + (self.gamma * q_targets_next * (1 - done_batch))\n",
        "        loss = F.mse_loss(q_expected, q_targets)\n",
        "\n",
        "        self.optimizer.zero_grad()\n",
        "        loss.backward()\n",
        "        self.optimizer.step()\n",
        "\n",
        "        # Soft update target network parameters\n",
        "        for target_param, local_param in zip(self.target_net.parameters(), self.value_net.parameters()):\n",
        "            target_param.data.copy_(self.tau * local_param.data + (1.0 - self.tau) * target_param.data)\n",
        "\n",
        "    def save(self, fname):\n",
        "        torch.save(self.value_net.state_dict(), fname)\n",
        "\n",
        "    def load(self, fname):\n",
        "        self.value_net.load_state_dict(torch.load(fname, map_location=device))\n",
        "\n"
      ]
    },
    {
      "cell_type": "code",
      "execution_count": 10,
      "metadata": {
        "id": "sqAOFUBb90wh"
      },
      "outputs": [],
      "source": [
        "# NOTE: DON'T change values\n",
        "n_episodes = 250\n",
        "eps = 1.0\n",
        "eps_decay_rate = 0.97\n",
        "eps_end = 0.01\n",
        "BATCH_SIZE = 32"
      ]
    },
    {
      "cell_type": "code",
      "execution_count": 11,
      "metadata": {
        "id": "ScM-yfC1P3md",
        "colab": {
          "base_uri": "https://localhost:8080/"
        },
        "outputId": "2a9d6705-3236-4956-ba3d-96dbf827f45a"
      },
      "outputs": [
        {
          "output_type": "stream",
          "name": "stderr",
          "text": [
            "/usr/local/lib/python3.10/dist-packages/gym/utils/passive_env_checker.py:233: DeprecationWarning: `np.bool8` is a deprecated alias for `np.bool_`.  (Deprecated NumPy 1.24)\n",
            "  if not isinstance(terminated, (bool, np.bool8)):\n"
          ]
        },
        {
          "output_type": "stream",
          "name": "stdout",
          "text": [
            "Episode 25\tAverage Reward: -123.60\tEpsilon: 0.47\n",
            "Episode 49\tAverage Reward: -111.83\tEpsilon: 0.22Moviepy - Building video /content/DQN/batch32/eps50/rl-video-episode-0.mp4.\n",
            "Moviepy - Writing video /content/DQN/batch32/eps50/rl-video-episode-0.mp4\n",
            "\n"
          ]
        },
        {
          "output_type": "stream",
          "name": "stderr",
          "text": [
            "/usr/local/lib/python3.10/dist-packages/gym/utils/passive_env_checker.py:233: DeprecationWarning: `np.bool8` is a deprecated alias for `np.bool_`.  (Deprecated NumPy 1.24)\n",
            "  if not isinstance(terminated, (bool, np.bool8)):\n"
          ]
        },
        {
          "output_type": "stream",
          "name": "stdout",
          "text": [
            "Moviepy - Done !\n",
            "Moviepy - video ready /content/DQN/batch32/eps50/rl-video-episode-0.mp4\n",
            "Episode 50\tAverage Reward: -110.86\tEpsilon: 0.22\n",
            "Episode 75\tAverage Reward: 11.34\tEpsilon: 0.10\n",
            "Episode 99\tAverage Reward: 60.73\tEpsilon: 0.05Moviepy - Building video /content/DQN/batch32/eps100/rl-video-episode-0.mp4.\n",
            "Moviepy - Writing video /content/DQN/batch32/eps100/rl-video-episode-0.mp4\n",
            "\n"
          ]
        },
        {
          "output_type": "stream",
          "name": "stderr",
          "text": []
        },
        {
          "output_type": "stream",
          "name": "stdout",
          "text": [
            "Moviepy - Done !\n",
            "Moviepy - video ready /content/DQN/batch32/eps100/rl-video-episode-0.mp4\n",
            "Episode 100\tAverage Reward: 73.53\tEpsilon: 0.05\n",
            "Episode 125\tAverage Reward: 37.78\tEpsilon: 0.02\n",
            "Episode 149\tAverage Reward: 88.45\tEpsilon: 0.01Moviepy - Building video /content/DQN/batch32/eps150/rl-video-episode-0.mp4.\n",
            "Moviepy - Writing video /content/DQN/batch32/eps150/rl-video-episode-0.mp4\n",
            "\n"
          ]
        },
        {
          "output_type": "stream",
          "name": "stderr",
          "text": []
        },
        {
          "output_type": "stream",
          "name": "stdout",
          "text": [
            "Moviepy - Done !\n",
            "Moviepy - video ready /content/DQN/batch32/eps150/rl-video-episode-0.mp4\n",
            "Episode 150\tAverage Reward: 88.85\tEpsilon: 0.01\n",
            "Episode 175\tAverage Reward: 226.50\tEpsilon: 0.01\n",
            "Episode 199\tAverage Reward: 212.39\tEpsilon: 0.01Moviepy - Building video /content/DQN/batch32/eps200/rl-video-episode-0.mp4.\n",
            "Moviepy - Writing video /content/DQN/batch32/eps200/rl-video-episode-0.mp4\n",
            "\n"
          ]
        },
        {
          "output_type": "stream",
          "name": "stderr",
          "text": []
        },
        {
          "output_type": "stream",
          "name": "stdout",
          "text": [
            "Moviepy - Done !\n",
            "Moviepy - video ready /content/DQN/batch32/eps200/rl-video-episode-0.mp4\n",
            "Episode 200\tAverage Reward: 211.92\tEpsilon: 0.01\n",
            "Episode 225\tAverage Reward: 257.89\tEpsilon: 0.01\n",
            "Episode 249\tAverage Reward: 231.80\tEpsilon: 0.01Moviepy - Building video /content/DQN/batch32/eps250/rl-video-episode-0.mp4.\n",
            "Moviepy - Writing video /content/DQN/batch32/eps250/rl-video-episode-0.mp4\n",
            "\n"
          ]
        },
        {
          "output_type": "stream",
          "name": "stderr",
          "text": []
        },
        {
          "output_type": "stream",
          "name": "stdout",
          "text": [
            "Moviepy - Done !\n",
            "Moviepy - video ready /content/DQN/batch32/eps250/rl-video-episode-0.mp4\n",
            "\rEpisode 250\tAverage Reward: 230.72\tEpsilon: 0.01\rEpisode 250\tAverage Reward: 230.72\tEpsilon: 0.01\n"
          ]
        }
      ],
      "source": [
        "# training phase\n",
        "\n",
        "# Mine\n",
        "agent = DQNAgent(state_size, action_size, batch_size=BATCH_SIZE)\n",
        "crs = np.zeros(n_episodes)\n",
        "crs_recent = deque(maxlen=25)\n",
        "\n",
        "for i_episode in range(1, n_episodes + 1):\n",
        "    env = RecordVideo(gym.make(\"LunarLander-v2\", render_mode=\"rgb_array\"), f\"./DQN/batch{BATCH_SIZE}/eps{i_episode}\") if i_episode % 50 == 0 else gym.make(\"LunarLander-v2\", render_mode=\"rgb_array\")\n",
        "    state, info = env.reset()\n",
        "    done = False\n",
        "    cr = 0\n",
        "    while not done:\n",
        "        action = agent.take_action(state, eps)\n",
        "        next_state, reward, done, truncated, info = env.step(action)\n",
        "        agent.experience_replay.store_trans(state, action, next_state, reward, done or truncated)\n",
        "        agent.update_params()\n",
        "        state = next_state\n",
        "        cr += reward\n",
        "\n",
        "    eps = max(eps * eps_decay_rate, eps_end)\n",
        "    crs[i_episode - 1] = cr\n",
        "    crs_recent.append(cr)\n",
        "    if i_episode % 50 == 0:\n",
        "        agent.save(f\"q_net_batch{BATCH_SIZE}_eps{i_episode}.pt\")\n",
        "\n",
        "    print(f'\\rEpisode {i_episode}\\tAverage Reward: {np.mean(crs_recent):.2f}\\tEpsilon: {eps:.2f}', end=\"\")\n",
        "    if i_episode % 25 == 0:\n",
        "        print(f'\\rEpisode {i_episode}\\tAverage Reward: {np.mean(crs_recent):.2f}\\tEpsilon: {eps:.2f}')\n"
      ]
    },
    {
      "cell_type": "code",
      "source": [
        "fig = plt.figure()\n",
        "plt.plot(np.arange(len(crs)), crs)\n",
        "plt.ylabel('Reward')\n",
        "plt.xlabel('Episode')\n",
        "plt.title(f\"DQN_batch{BATCH_SIZE}\")\n",
        "plt.savefig(f\"DQN_batch{BATCH_SIZE}.pdf\")\n",
        "plt.show()\n",
        "os.system(\"zip -r DQN.zip DQN/\")"
      ],
      "metadata": {
        "colab": {
          "base_uri": "https://localhost:8080/",
          "height": 490
        },
        "id": "CO6yQOw2BpjY",
        "outputId": "9ae1135b-b17c-46f9-e230-81a41711095e"
      },
      "execution_count": 12,
      "outputs": [
        {
          "output_type": "display_data",
          "data": {
            "text/plain": [
              "<Figure size 640x480 with 1 Axes>"
            ],
            "image/png": "[encoded data removed]"
          },
          "metadata": {}
        },
        {
          "output_type": "execute_result",
          "data": {
            "text/plain": [
              "0"
            ]
          },
          "metadata": {},
          "execution_count": 12
        }
      ]
    },
    {
      "cell_type": "markdown",
      "source": [
        "# Batch 64"
      ],
      "metadata": {
        "id": "aaoFs4pCCfab"
      }
    },
    {
      "cell_type": "code",
      "source": [
        "# NOTE: DON'T change values\n",
        "n_episodes = 250\n",
        "eps = 1.0\n",
        "eps_decay_rate = 0.97\n",
        "eps_end = 0.01\n",
        "BATCH_SIZE = 64"
      ],
      "metadata": {
        "id": "jOmmJgg_CkSN"
      },
      "execution_count": 13,
      "outputs": []
    },
    {
      "cell_type": "code",
      "source": [
        "# training phase\n",
        "\n",
        "# Mine\n",
        "agent = DQNAgent(state_size, action_size, batch_size=BATCH_SIZE)\n",
        "crs = np.zeros(n_episodes)\n",
        "crs_recent = deque(maxlen=25)\n",
        "\n",
        "for i_episode in range(1, n_episodes + 1):\n",
        "    env = RecordVideo(gym.make(\"LunarLander-v2\", render_mode=\"rgb_array\"), f\"./DQN/batch{BATCH_SIZE}/eps{i_episode}\") if i_episode % 50 == 0 else gym.make(\"LunarLander-v2\", render_mode=\"rgb_array\")\n",
        "    state, info = env.reset()\n",
        "    done = False\n",
        "    cr = 0\n",
        "    while not done:\n",
        "        action = agent.take_action(state, eps)\n",
        "        next_state, reward, done, truncated, info = env.step(action)\n",
        "        agent.experience_replay.store_trans(state, action, next_state, reward, done or truncated)\n",
        "        agent.update_params()\n",
        "        state = next_state\n",
        "        cr += reward\n",
        "\n",
        "    eps = max(eps * eps_decay_rate, eps_end)\n",
        "    crs[i_episode - 1] = cr\n",
        "    crs_recent.append(cr)\n",
        "    if i_episode % 50 == 0:\n",
        "        agent.save(f\"q_net_batch{BATCH_SIZE}_eps{i_episode}.pt\")\n",
        "\n",
        "    print(f'\\rEpisode {i_episode}\\tAverage Reward: {np.mean(crs_recent):.2f}\\tEpsilon: {eps:.2f}', end=\"\")\n",
        "    if i_episode % 25 == 0:\n",
        "        print(f'\\rEpisode {i_episode}\\tAverage Reward: {np.mean(crs_recent):.2f}\\tEpsilon: {eps:.2f}')"
      ],
      "metadata": {
        "colab": {
          "base_uri": "https://localhost:8080/"
        },
        "id": "E-lLpFx0Cm9S",
        "outputId": "55dd1b9f-c94d-4c95-c084-f9b31f3354f1"
      },
      "execution_count": 14,
      "outputs": [
        {
          "output_type": "stream",
          "name": "stderr",
          "text": [
            "/usr/local/lib/python3.10/dist-packages/gym/utils/passive_env_checker.py:233: DeprecationWarning: `np.bool8` is a deprecated alias for `np.bool_`.  (Deprecated NumPy 1.24)\n",
            "  if not isinstance(terminated, (bool, np.bool8)):\n"
          ]
        },
        {
          "output_type": "stream",
          "name": "stdout",
          "text": [
            "Episode 25\tAverage Reward: -157.51\tEpsilon: 0.47\n",
            "Episode 49\tAverage Reward: -178.48\tEpsilon: 0.22Moviepy - Building video /content/DQN/batch64/eps50/rl-video-episode-0.mp4.\n",
            "Moviepy - Writing video /content/DQN/batch64/eps50/rl-video-episode-0.mp4\n",
            "\n"
          ]
        },
        {
          "output_type": "stream",
          "name": "stderr",
          "text": []
        },
        {
          "output_type": "stream",
          "name": "stdout",
          "text": [
            "Moviepy - Done !\n",
            "Moviepy - video ready /content/DQN/batch64/eps50/rl-video-episode-0.mp4\n",
            "Episode 50\tAverage Reward: -175.24\tEpsilon: 0.22\n",
            "Episode 75\tAverage Reward: 6.67\tEpsilon: 0.10\n",
            "Episode 99\tAverage Reward: 37.77\tEpsilon: 0.05Moviepy - Building video /content/DQN/batch64/eps100/rl-video-episode-0.mp4.\n",
            "Moviepy - Writing video /content/DQN/batch64/eps100/rl-video-episode-0.mp4\n",
            "\n"
          ]
        },
        {
          "output_type": "stream",
          "name": "stderr",
          "text": []
        },
        {
          "output_type": "stream",
          "name": "stdout",
          "text": [
            "Moviepy - Done !\n",
            "Moviepy - video ready /content/DQN/batch64/eps100/rl-video-episode-0.mp4\n",
            "Episode 100\tAverage Reward: 49.86\tEpsilon: 0.05\n",
            "Episode 125\tAverage Reward: 113.18\tEpsilon: 0.02\n",
            "Episode 149\tAverage Reward: 170.41\tEpsilon: 0.01Moviepy - Building video /content/DQN/batch64/eps150/rl-video-episode-0.mp4.\n",
            "Moviepy - Writing video /content/DQN/batch64/eps150/rl-video-episode-0.mp4\n",
            "\n"
          ]
        },
        {
          "output_type": "stream",
          "name": "stderr",
          "text": []
        },
        {
          "output_type": "stream",
          "name": "stdout",
          "text": [
            "Moviepy - Done !\n",
            "Moviepy - video ready /content/DQN/batch64/eps150/rl-video-episode-0.mp4\n",
            "Episode 150\tAverage Reward: 162.35\tEpsilon: 0.01\n",
            "Episode 175\tAverage Reward: 92.24\tEpsilon: 0.01\n",
            "Episode 199\tAverage Reward: 169.26\tEpsilon: 0.01Moviepy - Building video /content/DQN/batch64/eps200/rl-video-episode-0.mp4.\n",
            "Moviepy - Writing video /content/DQN/batch64/eps200/rl-video-episode-0.mp4\n",
            "\n"
          ]
        },
        {
          "output_type": "stream",
          "name": "stderr",
          "text": []
        },
        {
          "output_type": "stream",
          "name": "stdout",
          "text": [
            "Moviepy - Done !\n",
            "Moviepy - video ready /content/DQN/batch64/eps200/rl-video-episode-0.mp4\n",
            "Episode 200\tAverage Reward: 177.33\tEpsilon: 0.01\n",
            "Episode 225\tAverage Reward: 118.35\tEpsilon: 0.01\n",
            "Episode 249\tAverage Reward: 75.09\tEpsilon: 0.01Moviepy - Building video /content/DQN/batch64/eps250/rl-video-episode-0.mp4.\n",
            "Moviepy - Writing video /content/DQN/batch64/eps250/rl-video-episode-0.mp4\n",
            "\n"
          ]
        },
        {
          "output_type": "stream",
          "name": "stderr",
          "text": []
        },
        {
          "output_type": "stream",
          "name": "stdout",
          "text": [
            "Moviepy - Done !\n",
            "Moviepy - video ready /content/DQN/batch64/eps250/rl-video-episode-0.mp4\n",
            "\rEpisode 250\tAverage Reward: 76.11\tEpsilon: 0.01\rEpisode 250\tAverage Reward: 76.11\tEpsilon: 0.01\n"
          ]
        }
      ]
    },
    {
      "cell_type": "code",
      "source": [
        "fig = plt.figure()\n",
        "plt.plot(np.arange(len(crs)), crs)\n",
        "plt.ylabel('Reward')\n",
        "plt.xlabel('Episode')\n",
        "plt.title(f\"DQN_batch{BATCH_SIZE}\")\n",
        "plt.savefig(f\"DQN_batch{BATCH_SIZE}.pdf\")\n",
        "plt.show()\n",
        "os.system(\"zip -r DQN.zip DQN/\")"
      ],
      "metadata": {
        "colab": {
          "base_uri": "https://localhost:8080/",
          "height": 490
        },
        "id": "Nlp7u220URxt",
        "outputId": "001bbd21-fe6e-4d99-f733-cb9bc6ecffe4"
      },
      "execution_count": 15,
      "outputs": [
        {
          "output_type": "display_data",
          "data": {
            "text/plain": [
              "<Figure size 640x480 with 1 Axes>"
            ],
            "image/png": "[encoded data removed]"
          },
          "metadata": {}
        },
        {
          "output_type": "execute_result",
          "data": {
            "text/plain": [
              "0"
            ]
          },
          "metadata": {},
          "execution_count": 15
        }
      ]
    },
    {
      "cell_type": "markdown",
      "source": [
        "# BATCH 128"
      ],
      "metadata": {
        "id": "4b1Jry91HTNE"
      }
    },
    {
      "cell_type": "code",
      "source": [
        "# NOTE: DON'T change values\n",
        "n_episodes = 250\n",
        "eps = 1.0\n",
        "eps_decay_rate = 0.97\n",
        "eps_end = 0.01\n",
        "BATCH_SIZE = 128"
      ],
      "metadata": {
        "id": "2ShseY26HVJp"
      },
      "execution_count": 17,
      "outputs": []
    },
    {
      "cell_type": "code",
      "source": [
        "# Mine\n",
        "agent = DQNAgent(state_size, action_size, batch_size=BATCH_SIZE)\n",
        "crs = np.zeros(n_episodes)\n",
        "crs_recent = deque(maxlen=25)\n",
        "\n",
        "for i_episode in range(1, n_episodes + 1):\n",
        "    env = RecordVideo(gym.make(\"LunarLander-v2\", render_mode=\"rgb_array\"), f\"./DQN/batch{BATCH_SIZE}/eps{i_episode}\") if i_episode % 50 == 0 else gym.make(\"LunarLander-v2\", render_mode=\"rgb_array\")\n",
        "    state, info = env.reset()\n",
        "    done = False\n",
        "    cr = 0\n",
        "    while not done:\n",
        "        action = agent.take_action(state, eps)\n",
        "        next_state, reward, done, truncated, info = env.step(action)\n",
        "        agent.experience_replay.store_trans(state, action, next_state, reward, done or truncated)\n",
        "        agent.update_params()\n",
        "        state = next_state\n",
        "        cr += reward\n",
        "\n",
        "    eps = max(eps * eps_decay_rate, eps_end)\n",
        "    crs[i_episode - 1] = cr\n",
        "    crs_recent.append(cr)\n",
        "    if i_episode % 50 == 0:\n",
        "        agent.save(f\"q_net_batch{BATCH_SIZE}_eps{i_episode}.pt\")\n",
        "\n",
        "    print(f'\\rEpisode {i_episode}\\tAverage Reward: {np.mean(crs_recent):.2f}\\tEpsilon: {eps:.2f}', end=\"\")\n",
        "    if i_episode % 25 == 0:\n",
        "        print(f'\\rEpisode {i_episode}\\tAverage Reward: {np.mean(crs_recent):.2f}\\tEpsilon: {eps:.2f}')"
      ],
      "metadata": {
        "colab": {
          "base_uri": "https://localhost:8080/"
        },
        "id": "w5lzm8EXW3tz",
        "outputId": "89ea334d-9a7b-4fe4-d97b-9be91362b9e5"
      },
      "execution_count": 19,
      "outputs": [
        {
          "metadata": {
            "tags": null
          },
          "name": "stdout",
          "output_type": "stream",
          "text": [
            "Episode 25\tAverage Reward: -155.53\tEpsilon: 0.19\n",
            "Episode 49\tAverage Reward: -197.31\tEpsilon: 0.09Moviepy - Building video /content/DQN/batch128/eps50/rl-video-episode-0.mp4.\n",
            "Moviepy - Writing video /content/DQN/batch128/eps50/rl-video-episode-0.mp4\n",
            "\n"
          ]
        },
        {
          "metadata": {
            "tags": null
          },
          "name": "stderr",
          "output_type": "stream",
          "text": [
            ""
          ]
        },
        {
          "output_type": "stream",
          "name": "stdout",
          "text": [
            "Moviepy - Done !\n",
            "Moviepy - video ready /content/DQN/batch128/eps50/rl-video-episode-0.mp4\n",
            "Episode 50\tAverage Reward: -202.81\tEpsilon: 0.09\n",
            "Episode 75\tAverage Reward: -227.52\tEpsilon: 0.04\n",
            "Episode 99\tAverage Reward: -218.69\tEpsilon: 0.02Moviepy - Building video /content/DQN/batch128/eps100/rl-video-episode-0.mp4.\n",
            "Moviepy - Writing video /content/DQN/batch128/eps100/rl-video-episode-0.mp4\n",
            "\n"
          ]
        },
        {
          "output_type": "stream",
          "name": "stderr",
          "text": []
        },
        {
          "output_type": "stream",
          "name": "stdout",
          "text": [
            "Moviepy - Done !\n",
            "Moviepy - video ready /content/DQN/batch128/eps100/rl-video-episode-0.mp4\n",
            "Episode 100\tAverage Reward: -227.24\tEpsilon: 0.02\n",
            "Episode 125\tAverage Reward: -166.38\tEpsilon: 0.01\n",
            "Episode 149\tAverage Reward: -67.67\tEpsilon: 0.01Moviepy - Building video /content/DQN/batch128/eps150/rl-video-episode-0.mp4.\n",
            "Moviepy - Writing video /content/DQN/batch128/eps150/rl-video-episode-0.mp4\n",
            "\n"
          ]
        },
        {
          "output_type": "stream",
          "name": "stderr",
          "text": []
        },
        {
          "output_type": "stream",
          "name": "stdout",
          "text": [
            "Moviepy - Done !\n",
            "Moviepy - video ready /content/DQN/batch128/eps150/rl-video-episode-0.mp4\n",
            "Episode 150\tAverage Reward: -51.76\tEpsilon: 0.01\n",
            "Episode 175\tAverage Reward: 23.06\tEpsilon: 0.01\n",
            "Episode 199\tAverage Reward: 56.84\tEpsilon: 0.01Moviepy - Building video /content/DQN/batch128/eps200/rl-video-episode-0.mp4.\n",
            "Moviepy - Writing video /content/DQN/batch128/eps200/rl-video-episode-0.mp4\n",
            "\n"
          ]
        },
        {
          "output_type": "stream",
          "name": "stderr",
          "text": []
        },
        {
          "output_type": "stream",
          "name": "stdout",
          "text": [
            "Moviepy - Done !\n",
            "Moviepy - video ready /content/DQN/batch128/eps200/rl-video-episode-0.mp4\n",
            "Episode 200\tAverage Reward: 42.67\tEpsilon: 0.01\n",
            "Episode 225\tAverage Reward: -1.10\tEpsilon: 0.01\n",
            "Episode 249\tAverage Reward: -12.44\tEpsilon: 0.01Moviepy - Building video /content/DQN/batch128/eps250/rl-video-episode-0.mp4.\n",
            "Moviepy - Writing video /content/DQN/batch128/eps250/rl-video-episode-0.mp4\n",
            "\n"
          ]
        },
        {
          "output_type": "stream",
          "name": "stderr",
          "text": []
        },
        {
          "output_type": "stream",
          "name": "stdout",
          "text": [
            "Moviepy - Done !\n",
            "Moviepy - video ready /content/DQN/batch128/eps250/rl-video-episode-0.mp4\n",
            "\rEpisode 250\tAverage Reward: -9.99\tEpsilon: 0.01\rEpisode 250\tAverage Reward: -9.99\tEpsilon: 0.01\n"
          ]
        }
      ]
    },
    {
      "cell_type": "code",
      "source": [
        "fig = plt.figure()\n",
        "plt.plot(np.arange(len(crs)), crs)\n",
        "plt.ylabel('Reward')\n",
        "plt.xlabel('Episode')\n",
        "plt.title(f\"DQN_batch{BATCH_SIZE}\")\n",
        "plt.savefig(f\"DQN_batch{BATCH_SIZE}.pdf\")\n",
        "plt.show()\n",
        "os.system(\"zip -r DQN.zip DQN/\")"
      ],
      "metadata": {
        "colab": {
          "base_uri": "https://localhost:8080/",
          "height": 490
        },
        "id": "ns5Rx0nBW9JI",
        "outputId": "3c2e2279-6008-4bc9-df78-322082bc370a"
      },
      "execution_count": 20,
      "outputs": [
        {
          "output_type": "display_data",
          "data": {
            "text/plain": [
              "<Figure size 640x480 with 1 Axes>"
            ],
            "image/png": "[encoded data removed]"
          },
          "metadata": {}
        },
        {
          "output_type": "execute_result",
          "data": {
            "text/plain": [
              "0"
            ]
          },
          "metadata": {},
          "execution_count": 20
        }
      ]
    },
    {
      "cell_type": "markdown",
      "metadata": {
        "id": "3lXfgBFOMx0G"
      },
      "source": [
        "## DDQN"
      ]
    },
    {
      "cell_type": "code",
      "execution_count": 24,
      "metadata": {
        "id": "ifTBKlEigZEu"
      },
      "outputs": [],
      "source": [
        "import numpy as np\n",
        "import torch\n",
        "import torch.nn as nn\n",
        "import torch.nn.functional as F\n",
        "import torch.optim as optim\n",
        "import copy\n",
        "\n",
        "# Mine\n",
        "import numpy as np\n",
        "import torch\n",
        "import torch.nn as nn\n",
        "import torch.nn.functional as F\n",
        "import torch.optim as optim\n",
        "import random\n",
        "import copy\n",
        "\n",
        "class DDQNAgent():\n",
        "    def __init__(self, state_size, action_size, batch_size, gamma=0.99, buffer_size=25000, alpha=1e-4, tau=1e-3):\n",
        "        self.state_size = state_size\n",
        "        self.action_size = action_size\n",
        "        self.batch_size = batch_size\n",
        "        self.gamma = gamma\n",
        "        self.tau = tau  # For soft update of target network parameters\n",
        "        self.experience_replay = ExperienceReplay(buffer_size)\n",
        "\n",
        "        # Main network\n",
        "        self.value_net = DeepQNetwork(state_size, action_size).to(device)\n",
        "        # Target network\n",
        "        self.target_net = DeepQNetwork(state_size, action_size).to(device)\n",
        "        self.target_net.load_state_dict(self.value_net.state_dict())\n",
        "        self.target_net.eval()  # Target network does not train\n",
        "\n",
        "        self.optimizer = optim.Adam(self.value_net.parameters(), lr=alpha)\n",
        "\n",
        "    def take_action(self, state, eps=0.0):\n",
        "        self.value_net.eval()\n",
        "        if random.random() > eps:\n",
        "            with torch.no_grad():\n",
        "                return torch.argmax(self.value_net(torch.tensor(state).float().unsqueeze(0).to(device))).item()\n",
        "        else:\n",
        "            return np.random.randint(0, self.action_size)\n",
        "\n",
        "    def update_params(self):\n",
        "        if len(self.experience_replay) < self.batch_size:\n",
        "            return\n",
        "        batch = Transition(*zip(*self.experience_replay.sample(self.batch_size)))\n",
        "\n",
        "        state_batch = torch.tensor(np.array(batch.state), dtype=torch.float32).to(device)\n",
        "        action_batch = torch.tensor(batch.action, dtype=torch.int64).unsqueeze(1).to(device)\n",
        "        next_state_batch = torch.tensor(np.array(batch.next_state), dtype=torch.float32).to(device)\n",
        "        reward_batch = torch.tensor(batch.reward, dtype=torch.float32).unsqueeze(1).to(device)\n",
        "        done_batch = torch.tensor(batch.done, dtype=torch.float32).unsqueeze(1).to(device)\n",
        "\n",
        "        q_expected = self.value_net(state_batch).gather(1, action_batch)\n",
        "\n",
        "        # Double DQN: Use value_net to select action, target_net to estimate Q-value\n",
        "        next_action_batch = torch.argmax(self.value_net(next_state_batch), dim=1, keepdim=True)\n",
        "        q_targets_next = self.target_net(next_state_batch).gather(1, next_action_batch).detach()\n",
        "        q_targets = reward_batch + (self.gamma * q_targets_next * (1 - done_batch))\n",
        "\n",
        "        loss = F.mse_loss(q_expected, q_targets)\n",
        "\n",
        "        self.optimizer.zero_grad()\n",
        "        loss.backward()\n",
        "        self.optimizer.step()\n",
        "\n",
        "        # Soft update target network parameters\n",
        "        self.soft_update(self.value_net, self.target_net, self.tau)\n",
        "\n",
        "    def soft_update(self, local_model, target_model, tau):\n",
        "        for target_param, local_param in zip(target_model.parameters(), local_model.parameters()):\n",
        "            target_param.data.copy_(tau * local_param.data + (1.0 - tau) * target_param.data)\n",
        "\n",
        "    def save(self, fname):\n",
        "        torch.save(self.value_net.state_dict(), fname)\n",
        "\n",
        "    def load(self, fname):\n",
        "        self.value_net.load_state_dict(torch.load(fname, map_location=device))\n"
      ]
    },
    {
      "cell_type": "code",
      "source": [
        "# NOTE: DON'T change values\n",
        "n_episodes = 250\n",
        "eps = 1.0\n",
        "eps_decay_rate = 0.97\n",
        "eps_end = 0.01\n",
        "BATCH_SIZE = 32"
      ],
      "metadata": {
        "id": "5Lf8CtwvS1Bv"
      },
      "execution_count": 26,
      "outputs": []
    },
    {
      "cell_type": "code",
      "execution_count": 28,
      "metadata": {
        "id": "hnSaedlKjnQe",
        "colab": {
          "base_uri": "https://localhost:8080/"
        },
        "outputId": "8e9ff176-aaf7-408e-e235-e65606babaa4"
      },
      "outputs": [
        {
          "output_type": "stream",
          "name": "stdout",
          "text": [
            "Episode 25\tAverage Reward: -107.69\tEpsilon: 0.17\n",
            "Episode 49\tAverage Reward: -39.18\tEpsilon: 0.08Moviepy - Building video /content/DDQN/batch32/eps50/rl-video-episode-0.mp4.\n",
            "Moviepy - Writing video /content/DDQN/batch32/eps50/rl-video-episode-0.mp4\n",
            "\n"
          ]
        },
        {
          "output_type": "stream",
          "name": "stderr",
          "text": []
        },
        {
          "output_type": "stream",
          "name": "stdout",
          "text": [
            "Moviepy - Done !\n",
            "Moviepy - video ready /content/DDQN/batch32/eps50/rl-video-episode-0.mp4\n",
            "Episode 50\tAverage Reward: -27.21\tEpsilon: 0.08\n",
            "Episode 75\tAverage Reward: 77.66\tEpsilon: 0.04\n",
            "Episode 99\tAverage Reward: 111.80\tEpsilon: 0.02Moviepy - Building video /content/DDQN/batch32/eps100/rl-video-episode-0.mp4.\n",
            "Moviepy - Writing video /content/DDQN/batch32/eps100/rl-video-episode-0.mp4\n",
            "\n"
          ]
        },
        {
          "output_type": "stream",
          "name": "stderr",
          "text": []
        },
        {
          "output_type": "stream",
          "name": "stdout",
          "text": [
            "Moviepy - Done !\n",
            "Moviepy - video ready /content/DDQN/batch32/eps100/rl-video-episode-0.mp4\n",
            "Episode 100\tAverage Reward: 132.42\tEpsilon: 0.02\n",
            "Episode 125\tAverage Reward: 56.37\tEpsilon: 0.01\n",
            "Episode 149\tAverage Reward: 129.83\tEpsilon: 0.01Moviepy - Building video /content/DDQN/batch32/eps150/rl-video-episode-0.mp4.\n",
            "Moviepy - Writing video /content/DDQN/batch32/eps150/rl-video-episode-0.mp4\n",
            "\n"
          ]
        },
        {
          "output_type": "stream",
          "name": "stderr",
          "text": []
        },
        {
          "output_type": "stream",
          "name": "stdout",
          "text": [
            "Moviepy - Done !\n",
            "Moviepy - video ready /content/DDQN/batch32/eps150/rl-video-episode-0.mp4\n",
            "Episode 150\tAverage Reward: 131.80\tEpsilon: 0.01\n",
            "Episode 175\tAverage Reward: 130.87\tEpsilon: 0.01\n",
            "Episode 199\tAverage Reward: 180.32\tEpsilon: 0.01Moviepy - Building video /content/DDQN/batch32/eps200/rl-video-episode-0.mp4.\n",
            "Moviepy - Writing video /content/DDQN/batch32/eps200/rl-video-episode-0.mp4\n",
            "\n"
          ]
        },
        {
          "output_type": "stream",
          "name": "stderr",
          "text": []
        },
        {
          "output_type": "stream",
          "name": "stdout",
          "text": [
            "Moviepy - Done !\n",
            "Moviepy - video ready /content/DDQN/batch32/eps200/rl-video-episode-0.mp4\n",
            "Episode 200\tAverage Reward: 181.91\tEpsilon: 0.01\n",
            "Episode 225\tAverage Reward: 180.18\tEpsilon: 0.01\n",
            "Episode 249\tAverage Reward: 184.20\tEpsilon: 0.01Moviepy - Building video /content/DDQN/batch32/eps250/rl-video-episode-0.mp4.\n",
            "Moviepy - Writing video /content/DDQN/batch32/eps250/rl-video-episode-0.mp4\n",
            "\n"
          ]
        },
        {
          "output_type": "stream",
          "name": "stderr",
          "text": []
        },
        {
          "output_type": "stream",
          "name": "stdout",
          "text": [
            "Moviepy - Done !\n",
            "Moviepy - video ready /content/DDQN/batch32/eps250/rl-video-episode-0.mp4\n",
            "\rEpisode 250\tAverage Reward: 171.21\tEpsilon: 0.01\rEpisode 250\tAverage Reward: 171.21\tEpsilon: 0.01\n"
          ]
        }
      ],
      "source": [
        "# training phase\n",
        "\n",
        "# Initialize agent\n",
        "agent = DDQNAgent(state_size, action_size, batch_size=BATCH_SIZE)\n",
        "\n",
        "crs = np.zeros(n_episodes)  # cumulative rewards\n",
        "crs_recent = deque(maxlen=25)  # recent cumulative rewards\n",
        "\n",
        "for i_episode in range(1, n_episodes + 1):\n",
        "    env = RecordVideo(gym.make(\"LunarLander-v2\", render_mode=\"rgb_array\"), f\"./DDQN/batch{BATCH_SIZE}/eps{i_episode}\") if i_episode % 50 == 0 else gym.make(\"LunarLander-v2\", render_mode=\"rgb_array\")\n",
        "    state, info = env.reset()\n",
        "    done = False\n",
        "    cr = 0\n",
        "    while not done:\n",
        "        action = agent.take_action(state, eps)\n",
        "        next_state, reward, done, truncated, info = env.step(action)\n",
        "        agent.experience_replay.store_trans(state, action, next_state, reward, done or truncated)\n",
        "        agent.update_params()\n",
        "        state = next_state\n",
        "        cr += reward\n",
        "\n",
        "    eps = max(eps * eps_decay_rate, eps_end)\n",
        "    crs[i_episode - 1] = cr\n",
        "    crs_recent.append(cr)\n",
        "    if i_episode % 50 == 0:\n",
        "        agent.save(f\"q_net_batch{BATCH_SIZE}_eps{i_episode}.pt\")\n",
        "\n",
        "    print(f'\\rEpisode {i_episode}\\tAverage Reward: {np.mean(crs_recent):.2f}\\tEpsilon: {eps:.2f}', end=\"\")\n",
        "    if i_episode % 25 == 0:\n",
        "        print(f'\\rEpisode {i_episode}\\tAverage Reward: {np.mean(crs_recent):.2f}\\tEpsilon: {eps:.2f}')\n"
      ]
    },
    {
      "cell_type": "code",
      "execution_count": 29,
      "metadata": {
        "id": "qnoK-4dpooFG",
        "colab": {
          "base_uri": "https://localhost:8080/",
          "height": 781
        },
        "outputId": "f74943b9-26b8-4989-a3fc-c897c54c37de"
      },
      "outputs": [
        {
          "output_type": "display_data",
          "data": {
            "text/plain": [
              "<Figure size 640x480 with 1 Axes>"
            ],
            "image/png": "[encoded data removed]"
          },
          "metadata": {}
        },
        {
          "output_type": "stream",
          "name": "stdout",
          "text": [
            "  adding: DDQN/ (stored 0%)\n",
            "  adding: DDQN/batch32/ (stored 0%)\n",
            "  adding: DDQN/batch32/eps200/ (stored 0%)\n",
            "  adding: DDQN/batch32/eps200/rl-video-episode-0.meta.json (deflated 13%)\n",
            "  adding: DDQN/batch32/eps200/rl-video-episode-0.mp4 (deflated 11%)\n",
            "  adding: DDQN/batch32/eps150/ (stored 0%)\n",
            "  adding: DDQN/batch32/eps150/rl-video-episode-0.meta.json (deflated 13%)\n",
            "  adding: DDQN/batch32/eps150/rl-video-episode-0.mp4 (deflated 13%)\n",
            "  adding: DDQN/batch32/eps100/ (stored 0%)\n",
            "  adding: DDQN/batch32/eps100/rl-video-episode-0.meta.json (deflated 13%)\n",
            "  adding: DDQN/batch32/eps100/rl-video-episode-0.mp4 (deflated 13%)\n",
            "  adding: DDQN/batch32/eps50/ (stored 0%)\n",
            "  adding: DDQN/batch32/eps50/rl-video-episode-0.meta.json (deflated 13%)\n",
            "  adding: DDQN/batch32/eps50/rl-video-episode-0.mp4 (deflated 12%)\n",
            "  adding: DDQN/batch32/eps250/ (stored 0%)\n",
            "  adding: DDQN/batch32/eps250/rl-video-episode-0.meta.json (deflated 13%)\n",
            "  adding: DDQN/batch32/eps250/rl-video-episode-0.mp4 (deflated 11%)\n"
          ]
        }
      ],
      "source": [
        "fig = plt.figure()\n",
        "plt.plot(np.arange(len(crs)), crs)\n",
        "plt.ylabel('Reward')\n",
        "plt.xlabel('Episode')\n",
        "plt.title(f\"DDQN_batch{BATCH_SIZE}\")\n",
        "plt.savefig(f\"DDQN_batch{BATCH_SIZE}.pdf\")\n",
        "plt.show()\n",
        "! zip -r DDQN3.zip DDQN/"
      ]
    }
  ],
  "metadata": {
    "accelerator": "GPU",
    "colab": {
      "provenance": [],
      "gpuType": "T4"
    },
    "kernelspec": {
      "display_name": "Python 3",
      "name": "python3"
    },
    "language_info": {
      "codemirror_mode": {
        "name": "ipython",
        "version": 3
      },
      "file_extension": ".py",
      "mimetype": "text/x-python",
      "name": "python",
      "nbconvert_exporter": "python",
      "pygments_lexer": "ipython3",
      "version": "3.7.3"
    }
  },
  "nbformat": 4,
  "nbformat_minor": 0
}